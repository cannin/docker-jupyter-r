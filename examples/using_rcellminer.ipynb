{
 "cells": [
  {
   "cell_type": "markdown",
   "metadata": {},
   "source": [
    "\n",
    "<!--\n",
    "%\\VignetteEngine{knitr::rmarkdown}\n",
    "%\\VignetteIndexEntry{Using rcellminer}\n",
    "%\\VignetteKeywords{rcellminer}\n",
    "%\\VignetteDepends{rcellminer}\n",
    "%\\VignettePackage{rcellminer}\n",
    "-->\n",
    "\n"
   ]
  },
  {
   "cell_type": "code",
   "execution_count": null,
   "metadata": {
    "Rmd_chunk_options": "knitrSetup, include=FALSE",
    "autoscroll": false,
    "collapsed": true
   },
   "outputs": [],
   "source": [
    "library(knitr)\n",
    "opts_chunk$set(out.extra='style=\"display:block; margin: auto\"',\n",
    "\t\t\t\t\t\t\t fig.align=\"center\", fig.width=8, fig.height=8, tidy=FALSE)\n"
   ]
  },
  {
   "cell_type": "markdown",
   "metadata": {},
   "source": [
    "\n",
    "# Overview\n",
    "The NCI-60 cancer cell line panel has been used over the course of several decades as an anti-cancer drug screen. This panel was developed as part of the Developmental Therapeutics Program (DTP, http://dtp.nci.nih.gov/) of the U.S. National Cancer Institute (NCI). Thousands of compounds have been tested on the NCI-60, which have been extensively characterized by many platforms for gene and protein expression, copy number, mutation, and others (Reinhold, et al., 2012). The purpose of the CellMiner project (http://discover.nci.nih.gov/cellminer) has been to integrate data from multiple platforms used to analyze the NCI-60, and to provide a powerful suite of tools for exploration of NCI-60 data. While CellMiner is an unmatched resource for online exploration of the NCI-60 data, consideration of more specialized scientific questions often requires custom programming. The **rcellminer** R package complements the functionality of CellMiner, providing programmatic data access, together with functions for data visualization and analysis. These functions are approachable for even beginning R users, as illustrated by the initial examples below. The subsequent case studies, inspired by CellMiner-related publications, show how modest amounts of code can script specialized analyses, integrating multiple types of data to yield new scientific insights.   **rcellminer** functions also provide robust building blocks for more extensive tools, as exemplifed by the package's interactive Shiny applications.\n",
    "\n",
    "# Basics\n",
    "\n",
    "## Installation\n",
    "\n"
   ]
  },
  {
   "cell_type": "code",
   "execution_count": null,
   "metadata": {
    "Rmd_chunk_options": "install, eval=FALSE",
    "autoscroll": false,
    "collapsed": true
   },
   "outputs": [],
   "source": [
    "source(\"http://bioconductor.org/biocLite.R\")\n",
    "biocLite(\"rcellminer\")\n",
    "biocLite(\"rcellminerData\")\n"
   ]
  },
  {
   "cell_type": "markdown",
   "metadata": {},
   "source": [
    "\n",
    "## Getting Started\n",
    "\n",
    "Load **rcellminer** and **rcellminerData** packages:\n",
    "\n"
   ]
  },
  {
   "cell_type": "code",
   "execution_count": null,
   "metadata": {
    "Rmd_chunk_options": "loadLibrary, message=FALSE, warning=FALSE",
    "autoscroll": false,
    "collapsed": true
   },
   "outputs": [],
   "source": [
    "library(rcellminer)\n",
    "library(rcellminerData)\n"
   ]
  },
  {
   "cell_type": "markdown",
   "metadata": {},
   "source": [
    "\n",
    "A list of all accessible vignettes and methods is available with the following command.\n",
    "\n"
   ]
  },
  {
   "cell_type": "code",
   "execution_count": null,
   "metadata": {
    "Rmd_chunk_options": "searchHelp, eval=FALSE, tidy=FALSE",
    "autoscroll": false,
    "collapsed": true
   },
   "outputs": [],
   "source": [
    "help.search(\"rcellminer\")\n"
   ]
  },
  {
   "cell_type": "markdown",
   "metadata": {},
   "source": [
    "\n",
    "## Searching for Compounds\n",
    "\n",
    "The NSC number is a numeric identifier for substances submitted to the National Cancer Institute (NCI) for testing and evaluation. It is a registration number for the Developmental Therapeutics Program (DTP) repository, and it is used as the unique identifier for compounds in the CellMiner database. NSC stands for National Service Center.\n",
    "\n",
    "rcellminer allows users to quickly search for NSC IDs by compound name or partial name. For example, many kinase inhibitors end with the suffix \"nib\". Users can quickly search NSCs for compound names with this suffix; queries are case insensitive and are treated as regular expressions.\n",
    "\n"
   ]
  },
  {
   "cell_type": "code",
   "execution_count": null,
   "metadata": {
    "Rmd_chunk_options": "searchForNscs",
    "autoscroll": false,
    "collapsed": true
   },
   "outputs": [],
   "source": [
    "searchForNscs(\"nib$\")\n"
   ]
  },
  {
   "cell_type": "markdown",
   "metadata": {},
   "source": [
    "\n",
    "## Profile Visualization\n",
    "\n",
    "Often, it is useful for researchers to plot multiple data profiles next to each other in order to visually identify patterns. Below are examples for the visualization of various profiles: single drugs and multiple drugs, as well as molecular profiles and combinations of drug and molecular profiles.\n",
    "\n"
   ]
  },
  {
   "cell_type": "code",
   "execution_count": null,
   "metadata": {
    "Rmd_chunk_options": "plotCellminer",
    "autoscroll": false,
    "collapsed": true
   },
   "outputs": [],
   "source": [
    "# Get Cellminer data\n",
    "drugAct <- exprs(getAct(rcellminerData::drugData))\n",
    "molData <- getMolDataMatrices()\n",
    "\n",
    "# One drug\n",
    "nsc <- \"94600\"\n",
    "plots <- c(\"drug\")\n",
    "plotCellMiner(drugAct, molData, plots, nsc, NULL)\n",
    "\n",
    "# One expression\n",
    "gene <- \"TP53\"\n",
    "plots <- c(\"exp\")\n",
    "plotCellMiner(drugAct, molData, plots, NULL, gene)\n",
    "\n",
    "# Two drugs: Irinotecan and topotecan\n",
    "nsc <- c(\"616348\", \"609699\")\n",
    "plots <- c(\"drug\", \"drug\")\n",
    "plotCellMiner(drugAct, molData, plots, nsc, NULL)\n",
    "\n",
    "# Two genes\n",
    "# NOTE: subscript out of bounds Errors likely mean the gene is not present for that data type\n",
    "gene <- c(\"TP53\", \"MDM2\")\n",
    "plots <- c(\"exp\", \"mut\", \"exp\")\n",
    "plotCellMiner(drugAct, molData, plots, NULL, gene)\n",
    "\n",
    "# Gene and drug to plot\n",
    "nsc <- \"609699\"\n",
    "gene <- \"SLFN11\"\n",
    "plots <- c(\"exp\", \"cop\", \"drug\")\n",
    "plotCellMiner(drugAct, molData, plots, nsc, gene)\n"
   ]
  },
  {
   "cell_type": "markdown",
   "metadata": {},
   "source": [
    "\n",
    "### Visualizing Drug Sets\n",
    "\n",
    "For related drugs, it is often useful to visualize a summary of drug activity. **rcellminer** allows you to easily plot a drug set's average activity z-score pattern over the NCI-60, together with 1 standard deviation error bars to gauge variation in response behavior.\n",
    "\n"
   ]
  },
  {
   "cell_type": "code",
   "execution_count": null,
   "metadata": {
    "Rmd_chunk_options": "plotDrugSets",
    "autoscroll": false,
    "collapsed": true
   },
   "outputs": [],
   "source": [
    "# Get CellMiner data\n",
    "drugAct <- exprs(getAct(rcellminerData::drugData))\n",
    "\n",
    "drugs <- searchForNscs(\"camptothecin\")\n",
    "drugAct <- drugAct[drugs,]\n",
    "mainLabel <- paste(\"Drug Set: Camptothecin Derivatives, Drugs:\", length(drugs), sep=\" \")\n",
    "\n",
    "plotDrugSets(drugAct, drugs, mainLabel)\n"
   ]
  },
  {
   "cell_type": "markdown",
   "metadata": {},
   "source": [
    "\n",
    "## Structure Visualization\n",
    "\n",
    "The structures of CellMiner compounds can be visualized using the **plotStructuresFromNscs** method, which applies functionality provided by the **rcdk** package.\n",
    "\n"
   ]
  },
  {
   "cell_type": "code",
   "execution_count": null,
   "metadata": {
    "Rmd_chunk_options": "plotStructures, fig.width=3, fig.height=3",
    "autoscroll": false,
    "collapsed": true
   },
   "outputs": [],
   "source": [
    "plotStructuresFromNscs(\"609699\")\n"
   ]
  },
  {
   "cell_type": "markdown",
   "metadata": {},
   "source": [
    "\n",
    "# Working with Additional Drug Information\n",
    "\n",
    "## Mechanism of action (MOA)\n",
    "\n",
    "**rcellminer** provides the mechanism of action (MOA) category for compounds for which this information is available. The MOA specifies the biochemical targets or processes that a compound affects.  MOAs are indicated by CellMiner abbreviations, though more detailed descriptions can be obtained as indicated below.\n",
    "\n",
    "### Get MOA information\n",
    "\n",
    "Find known MOA drugs and organize their essential information in a table.\n",
    "\n"
   ]
  },
  {
   "cell_type": "code",
   "execution_count": null,
   "metadata": {
    "Rmd_chunk_options": "makeDrugInfoTable, results='hide', message=FALSE",
    "autoscroll": false,
    "collapsed": true
   },
   "outputs": [],
   "source": [
    "# getFeatureAnnot() returns a named list of data frames with annotation data\n",
    "# for drugs (\"drug\") and drug activity repeat experiments (\"drugRepeat\").\n",
    "drugAnnot <- getFeatureAnnot(rcellminerData::drugData)[[\"drug\"]]\n",
    "\n",
    "# Get the names and MOA for compounds with MOA entries\n",
    "knownMoaDrugs <- unique(c(getMoaToCompounds(), recursive = TRUE))\n",
    "knownMoaDrugInfo <- data.frame(NSC=knownMoaDrugs, stringsAsFactors = FALSE)\n",
    "knownMoaDrugInfo$Name <- drugAnnot[knownMoaDrugInfo$NSC, \"NAME\"]\n",
    "\n",
    "# Process all NSCs\n",
    "knownMoaDrugInfo$MOA <- sapply(knownMoaDrugInfo$NSC, getMoaStr)\n",
    "\n",
    "# Order drugs by mechanism of action.\n",
    "knownMoaDrugInfo <- knownMoaDrugInfo[order(knownMoaDrugInfo$MOA), ]\n",
    "\n",
    "# Drug_MOA_Key data frame provides further details on MOA abbrevations.\n",
    "Drug_MOA_Key[c(\"A2\", \"A7\"), ]\n"
   ]
  },
  {
   "cell_type": "markdown",
   "metadata": {},
   "source": [
    "\n",
    "## Drug Activity\n",
    "\n",
    "Additionally, **rcellminer** provides GI50 (50% growth inhibition) values for the compounds in the database. GI50 values are similar to IC50 values, which are the concentrations that cause 50% growth inhibition, but have been renamed to emphasize the correction for the cell count at time zero. Further details on the assay used are available on the [DTP website](http://dtp.nci.nih.gov/docs/compare/compare_methodology.html).\n",
    "\n",
    "### Get GI50 values\n",
    "\n",
    "Compute GI50 data matrix for known MOA drugs.\n",
    "\n"
   ]
  },
  {
   "cell_type": "code",
   "execution_count": null,
   "metadata": {
    "Rmd_chunk_options": "computeGI50Data, results='hide', message=FALSE",
    "autoscroll": false,
    "collapsed": true
   },
   "outputs": [],
   "source": [
    "negLogGI50Data <- getDrugActivityData(nscSet = knownMoaDrugInfo$NSC)\n",
    "\n",
    "gi50Data <- 10^(-negLogGI50Data)\n"
   ]
  },
  {
   "cell_type": "markdown",
   "metadata": {},
   "source": [
    "\n",
    "Construct integrated data table (drug information and NCI-60 GI50 activity).\n",
    "\n"
   ]
  },
  {
   "cell_type": "code",
   "execution_count": null,
   "metadata": {
    "Rmd_chunk_options": "makeIntegratedTable, results='hide', message=FALSE",
    "autoscroll": false,
    "collapsed": true
   },
   "outputs": [],
   "source": [
    "knownMoaDrugAct <- as.data.frame(cbind(knownMoaDrugInfo, gi50Data), stringsAsFactors = FALSE)\n",
    "\n",
    "# This table can be written out to a file\n",
    "#write.table(knownMoaDrugAct, file=\"knownMoaDrugAct.txt\", quote=FALSE, sep=\"\\t\", row.names=FALSE, col.names=TRUE, na=\"NA\")\n"
   ]
  },
  {
   "cell_type": "markdown",
   "metadata": {},
   "source": [
    "\n",
    "# Use Cases\n",
    "## Finding Structurally Similar Compounds\n",
    "\n",
    "In this example, we show how to identify compounds that are structurally similar to a compound of interest. Both the matching compound structures and their activity patterns can then be plotted.  For speed and illustrative purposes, the set of compounds searched by pairwise structural comparison is restricted to a subset of compounds with known mechanism of action (MOA). The code can, however, be easily adjusted to screen the entire CellMiner compound database. By examining the activity pattern variation across compounds with related structures, insight can be gained toward understanding of structure-activity relationships.\n",
    "\n",
    "### Generate drug set\n",
    "\n",
    "Generate a set of 100 drugs for pairwise structural comparison with Camptothecin (a Topoisomerase I inhibitor). We provide a name \"Camptothecin\" and the SMILES-based structure [retrieved from PubChem](https://pubchem.ncbi.nlm.nih.gov/compound/24360?from=summary#section=Canonical-SMILES).\n",
    "\n"
   ]
  },
  {
   "cell_type": "code",
   "execution_count": null,
   "metadata": {
    "Rmd_chunk_options": "compareFingerPrints, results='hide', message=FALSE, warning=FALSE",
    "autoscroll": false,
    "collapsed": true
   },
   "outputs": [],
   "source": [
    "# Load sqldf\n",
    "library(sqldf)\n",
    "\n",
    "# Set up necessary data\n",
    "# getFeatureAnnot() returns a named list of data frames with annotation data\n",
    "# for drugs (\"drug\") and drug activity repeat experiments (\"drugRepeat\").\n",
    "df <- getFeatureAnnot(rcellminerData::drugData)[[\"drug\"]]\n",
    "## Drug activities\n",
    "drugAct <- exprs(getAct(rcellminerData::drugData))\n",
    "## Molecular profiling data\n",
    "molData <- getMolDataMatrices()\n",
    "\n",
    "# Example filter on particular properties of the compounds\n",
    "tmpDf <- sqldf(\"SELECT NSC, SMILES FROM df WHERE SMILES != ''\")\n",
    "\n",
    "# Compare against known MOA compounds demonstration\n",
    "knownMoaDrugs <- unique(c(getMoaToCompounds(), recursive=TRUE))\n",
    "ids <- tmpDf[tmpDf$NSC %in% knownMoaDrugs, \"NSC\"]\n",
    "smiles <- tmpDf[tmpDf$NSC %in% knownMoaDrugs, \"SMILES\"]\n",
    "\n",
    "# All public\n",
    "#ids <- tmpDf$nsc\n",
    "#smiles <- tmpDf$smiles\n",
    "\n",
    "drugOfInterest <- \"Camptothecin\"\n",
    "smilesOfInterest <- \"CCC1(C2=C(COC1=O)C(=O)N3CC4=CC5=CC=CC=C5N=C4C3=C2)O\"\n",
    "\n",
    "# Make a vector of all the compounds to be pairwise compared\n",
    "ids <- c(drugOfInterest, ids)\n",
    "smiles <- c(smilesOfInterest, smiles)\n"
   ]
  },
  {
   "cell_type": "markdown",
   "metadata": {},
   "source": [
    "\n",
    "### Run the comparison\n",
    "\n"
   ]
  },
  {
   "cell_type": "code",
   "execution_count": null,
   "metadata": {
    "Rmd_chunk_options": "runComparison, message=FALSE",
    "autoscroll": false,
    "collapsed": true
   },
   "outputs": [],
   "source": [
    "# Run fingerprint comparison\n",
    "results <- compareFingerprints(ids, smiles, verbose=FALSE)\n",
    "\n",
    "# Display the top 5 tanimoto similarity coefficient results. The first compound\n",
    "# is a self comparison.\n",
    "results[1:5]\n"
   ]
  },
  {
   "cell_type": "markdown",
   "metadata": {},
   "source": [
    "\n",
    "### Visualize structures\n",
    "\n",
    "View the similar structures. The first drug in the results will be the drug of interest and the subsequent drugs will compounds related by structure with decreasing similarity.\n",
    "\n",
    "**NOTE:** All compounds in CellMiner are uniquely identified by **NSC** identifiers.\n",
    "\n"
   ]
  },
  {
   "cell_type": "code",
   "execution_count": null,
   "metadata": {
    "Rmd_chunk_options": "plotSimilarStructures, fig.height=2, fig.width=8",
    "autoscroll": false,
    "collapsed": true
   },
   "outputs": [],
   "source": [
    "# Plot top 4 results\n",
    "resultsIdx <- sapply(names(results)[2:5], function(x) { which(tmpDf$NSC == x) })\n",
    "resultsIds <- names(results)[2:5]\n",
    "resultsSmiles <- tmpDf$SMILES[resultsIdx]\n",
    "\n",
    "resultsIds <- c(drugOfInterest, resultsIds)\n",
    "resultsSmiles <- c(smilesOfInterest, resultsSmiles)\n",
    "\n",
    "# plotStructures() allows plotting user-included SMILES-based structures\n",
    "plotStructures(resultsIds, resultsSmiles, titleCex=0.5, mainLabel=\"Fingerprint Results\")\n"
   ]
  },
  {
   "cell_type": "markdown",
   "metadata": {},
   "source": [
    "\n",
    "### Visualize drug activity\n",
    "\n",
    "Plot the activity of the most structurally similar compounds across the NCI-60\n",
    "\n"
   ]
  },
  {
   "cell_type": "code",
   "execution_count": null,
   "metadata": {
    "Rmd_chunk_options": "plotSimilarActivities",
    "autoscroll": false,
    "collapsed": true
   },
   "outputs": [],
   "source": [
    "nscs <- names(results)[2:5]\n",
    "plotCellMiner(drugAct, molData, rep(\"drug\", length(nscs)), nscs, NULL)\n"
   ]
  },
  {
   "cell_type": "markdown",
   "metadata": {},
   "source": [
    "\n",
    "## Pattern Comparison\n",
    "\n",
    "In this example, we construct and visualize a composite gene inactivation pattern for the\n",
    "widely studied PTEN tumor suppressor gene, integrating gene expression, copy, and mutation data.\n",
    "The composite pattern is then used to identify compounds with correlated activity patterns.\n",
    "\n"
   ]
  },
  {
   "cell_type": "code",
   "execution_count": null,
   "metadata": {
    "Rmd_chunk_options": "reinhold2015",
    "autoscroll": false,
    "collapsed": true
   },
   "outputs": [],
   "source": [
    "# Gene of interest\n",
    "gene <- \"PTEN\"\n",
    "\n",
    "# Get Data\n",
    "drugAct <- exprs(getAct(rcellminerData::drugData))\n",
    "molData <- getMolDataMatrices()\n",
    "\n",
    "# Get the cell lines names for cell lines meeting particular thresholds\n",
    "copKnockdown <- names(which(molData[[\"cop\"]][paste0(\"cop\", gene), ] < -1))\n",
    "expKnockdown <- names(which(molData[[\"exp\"]][paste0(\"exp\", gene), ] < -1.5))\n",
    "mutKnockdown <- names(which(molData[[\"mut\"]][paste0(\"mut\", gene), ] == 1))\n",
    "\n",
    "# Make composite pattern\n",
    "pattern <- rep(0, length(molData[[\"cop\"]][paste0(\"cop\", gene), ]))\n",
    "names(pattern) <- names(molData[[\"cop\"]][paste0(\"cop\", gene), ])\n",
    "tmp <- Reduce(union, list(copKnockdown, expKnockdown, mutKnockdown))\n",
    "pattern[tmp] <- 1\n",
    "\n",
    "# Composite plot data\n",
    "extraPlot <- list()\n",
    "extraPlot[[\"title\"]] <- \"Composite Pattern\"\n",
    "extraPlot[[\"label\"]] <- \"Knockdown Composite (Binary)\"\n",
    "extraPlot[[\"values\"]] <- pattern\n",
    "\n",
    "# Plot data\n",
    "plotCellMiner(molData=molData, plots=c(\"cop\", \"exp\", \"mut\"), gene=gene, extraPlot=extraPlot)\n",
    "\n",
    "# Significant drug correlations to FDA-approved/Clinical trial drugs\n",
    "# getFeatureAnnot() returns a named list of data frames with annotation data\n",
    "# for drugs (\"drug\") and drug activity repeat experiments (\"drugRepeat\").\n",
    "drugAnnot <- getFeatureAnnot(rcellminerData::drugData)[[\"drug\"]]\n",
    "tmpDA <- drugAnnot[drugAnnot$FDA_STATUS != \"-\", c(\"NSC\", \"FDA_STATUS\")]\n",
    "\n",
    "tmpDrugAct <- drugAct[rownames(drugAct) %in% tmpDA$NSC,]\n",
    "\n",
    "results <- patternComparison(pattern, tmpDrugAct)\n",
    "sigResults <- results[results$PVAL < 0.01, ]\n",
    "\n",
    "# Get names of drugs that are FDA approved or in clinical trials\n",
    "getDrugName(rownames(sigResults))\n"
   ]
  },
  {
   "cell_type": "markdown",
   "metadata": {},
   "source": [
    "\n",
    "## Correlating DNA Copy Number Alteration and Gene Expression\n",
    "\n",
    "We can assess the extent to which a gene's expression may be regulated by copy gain or loss\n",
    "by computing the correlation between its NCI-60 transcript expression and DNA copy number\n",
    "alteration pattern. The overall distribution of such correlations can guide consideration of\n",
    "their significance. In this setting, it is insightful to consider the extent to which particular\n",
    "classes of genes may be regulated by copy alteration. This example illustrates the computation and visualization  of the gene copy number vs. expression correlation distribution, while situating\n",
    "the median correlation for a set of oncogenes within the observed distribution.\n",
    "\n"
   ]
  },
  {
   "cell_type": "code",
   "execution_count": null,
   "metadata": {
    "Rmd_chunk_options": "varma2014, fig.height=7.5, fig.width=6",
    "autoscroll": false,
    "collapsed": true
   },
   "outputs": [],
   "source": [
    "molData <- getMolDataMatrices()\n",
    "\n",
    "# Get Data\n",
    "copGenes <- removeMolDataType(rownames(molData[[\"cop\"]]))\n",
    "expGenes <- removeMolDataType(rownames(molData[[\"exp\"]]))\n",
    "genes <- intersect(copGenes, expGenes)\n",
    "\n",
    "# Generate the appropriate rownames\n",
    "expGeneLabels <- paste0(\"exp\", genes)\n",
    "copGeneLabels <- paste0(\"cop\", genes)\n",
    "\n",
    "a <- molData[[\"exp\"]][expGeneLabels,]\n",
    "b <- molData[[\"cop\"]][copGeneLabels,]\n",
    "allGenes <- rowCors(a, b)\n",
    "\n",
    "#selectedOncogenes <- c(\"FZD1\", \"JAK2\", \"ALK\", \"PIK3CG\", \"RET\", \"CDC25A\", \"PDGFB\", \"PIK3CB\", \"WNT3\")\n",
    "selectedOncogenes <- c(\"ABL1\", \"ALK\", \"BRAF\", \"CCND1\", \"CCND3\", \"CCNE1\", \"CCNE2\",\n",
    "\t\t\t\t\t\t\t\t\t\t\t \"CDC25A\", \"EGFR\", \"ERBB2\", \"EZH2\", \"FOS\", \"FOXL2\", \"HRAS\",\n",
    "\t\t\t\t\t\t\t\t\t\t\t \"IDH1\", \"IDH2\", \"JAK2\", \"KIT\", \"KRAS\", \"MET\", \"MOS\", \"MYC\",\n",
    "\t\t\t\t\t\t\t\t\t\t\t \"NRAS\", \"PDGFB\", \"PDGFRA\", \"PIK3CA\", \"PIK3CB\", \"PIK3CD\",\n",
    "\t\t\t\t\t\t\t\t\t\t\t \"PIK3CG\", \"PIM1\", \"PML\", \"RAF1\", \"REL\", \"RET\", \"SRC\", \"STK11\",\n",
    "\t\t\t\t\t\t\t\t\t\t\t \"TP63\", \"WNT10B\", \"WNT4\", \"WNT2B\", \"WNT9A\", \"WNT3\", \"WNT5A\",\n",
    "\t\t\t\t\t\t\t\t\t\t\t \"WNT5B\", \"WNT10A\", \"WNT11\", \"WNT2\", \"WNT1\", \"WNT7B\", \"WISP1\",\n",
    "\t\t\t\t\t\t\t\t\t\t\t \"WNT8B\", \"WNT7A\", \"WNT16\", \"WISP2\", \"WISP3\", \"FZD5\", \"FZD1\")\n",
    "\n",
    "# Generate the appropriate rownames\n",
    "expGeneLabels <- paste0(\"exp\", selectedOncogenes)\n",
    "copGeneLabels <- paste0(\"cop\", selectedOncogenes)\n",
    "\n",
    "a <- molData[[\"exp\"]][expGeneLabels,]\n",
    "b <- molData[[\"cop\"]][copGeneLabels,]\n",
    "selectedOncogenesCor <- rowCors(a, b)\n",
    "\n",
    "hist(allGenes$cor, main=\"\", xlab=\"Pearson correlation between expression and copy number\", breaks=200, col=\"lightgray\", border=\"lightgray\")\n",
    "\n",
    "segments(x0=median(allGenes$cor), y0=0, x1=median(allGenes$cor), y1=175, lty=2, lwd=2)\n",
    "text(median(allGenes$cor)+0.02, y=175, adj=0, labels=\"Median Correlation\\nAll Genes\", cex=0.75)\n",
    "\n",
    "segments(x0=median(selectedOncogenesCor$cor), y0=0, x1=median(selectedOncogenesCor$cor), y1=140, lty=2, lwd=2, col=\"red\")\n",
    "text(median(selectedOncogenesCor$cor)+0.02, y=140, adj=0, labels=\"Median Correlation\\nOncogenes\", cex=0.75)\n",
    "\n",
    "rug(selectedOncogenesCor$cor, col=\"red\")\n"
   ]
  },
  {
   "cell_type": "markdown",
   "metadata": {},
   "source": [
    "\n",
    "## Assessing Correlative Evidence for a Drug MOA Hypothesis\n",
    "\n",
    "**rcellminer** makes it easy to consider whether the available pharmacogenomic data support\n",
    "a hypothesis relating to drug mechanism of action. For example, higher expression of anti-apoptotic\n",
    "genes could plausibly promote cell survival in the face of DNA damage induced by topoisomerase\n",
    "inhibitors, thereby contributing to drug resistance. To explore this further, we can check\n",
    "if the expression of known anti-apoptotic genes is significantly negatively correlated with\n",
    "the activity of the topoisomerase 1 inhibitor camptothecin.\n",
    "\n"
   ]
  },
  {
   "cell_type": "code",
   "execution_count": null,
   "metadata": {
    "Rmd_chunk_options": "idTopo1InhCors",
    "autoscroll": false,
    "collapsed": true
   },
   "outputs": [],
   "source": [
    "# Get normalized (Z-score) NCI-60 gene expression and drug activity data.\n",
    "nci60DrugActZ <- exprs(getAct(rcellminerData::drugData))\n",
    "nci60GeneExpZ <- getAllFeatureData(rcellminerData::molData)[[\"exp\"]]\n",
    "\n",
    "antiApoptosisGenes <- c(\"BAG1\", \"BAG3\", \"BAG4\", \"BCL10\", \"BCL2\",\n",
    "\t\t\t\t\t\t\t\t\t\t\t\t\"BCL2A1\", \"BCL2L1\", \"BCL2L10\", \"BCL2L2\",\n",
    "\t\t\t\t\t\t\t\t\t\t\t\t\"BFAR\", \"BIRC3\", \"BIRC6\", \"BNIP1\", \"BNIP2\",\n",
    "\t\t\t\t\t\t\t\t\t\t\t\t\"BNIP3\", \"BNIP3L\", \"BRAF\", \"CASP3\", \"CD27\",\n",
    "\t\t\t\t\t\t\t\t\t\t\t\t\"CD40LG\", \"CFLAR\", \"CIDEA\", \"DAPK1\", \"DFFA\",\n",
    "\t\t\t\t\t\t\t\t\t\t\t\t\"FAS\", \"IGF1R\", \"MCL1\", \"NOL3\", \"TMBIM1\",\n",
    "\t\t\t\t\t\t\t\t\t\t\t\t\"TP53\", \"TP73\", \"XIAP\")\n",
    "camptothecinNsc <- \"94600\"\n",
    "\n",
    "# Compute table of correlations between camptothecin activity and anti-apoptosis gene expression.\n",
    "pcResults <- patternComparison(nci60DrugActZ[camptothecinNsc, ], nci60GeneExpZ[antiApoptosisGenes, ])\n",
    "\n",
    "# Adjust p-values for multiple comparisons, sort with respect to q-values.\n",
    "pcResults$QVAL <- p.adjust(pcResults$PVAL, method = \"fdr\")\n",
    "pcResults <- pcResults[order(pcResults$QVAL), ]\n",
    "\n",
    "# Identify genes with significant negative correlations (FDR < 0.1)\n",
    "pcResults[((pcResults$COR < 0) & (pcResults$QVAL < 0.10)), ]\n"
   ]
  },
  {
   "cell_type": "markdown",
   "metadata": {},
   "source": [
    "\n",
    "\n",
    "Two genes, the BAX-antagonists TMBIM1 and BCL2L2, have NCI-60 expression patterns that are\n",
    "significantly negatively correlated with camptothecin activity. Plots illustrating these\n",
    "relationships are constructed below.\n",
    "\n"
   ]
  },
  {
   "cell_type": "code",
   "execution_count": null,
   "metadata": {
    "Rmd_chunk_options": "plotCptActivityVsGeneExp",
    "autoscroll": false,
    "collapsed": true
   },
   "outputs": [],
   "source": [
    "colorTab <- loadNciColorSet(returnDf = TRUE)\n",
    "tissueColorTab <- unique(colorTab[, c(\"tissues\", \"colors\")])\n",
    "\n",
    "plotData <- as.data.frame(t(rbind(nci60DrugActZ[camptothecinNsc, , drop=FALSE],\n",
    "\t\t\t\t\t\t\t\t\t\t\t\t\t\t\t\t\tnci60GeneExpZ[c(\"TMBIM1\", \"BCL2L2\"), ])))\n",
    "colnames(plotData) <- c(\"Camptothecin\", \"TMBIM1\", \"BCL2L2\")\n",
    "\n",
    "plot(x=plotData$TMBIM1, y=plotData$Camptothecin, col=colorTab$colors, pch=16,\n",
    "\t\t xlab=\"TMBIM1 mRNA exp (Z-score)\", ylab=\"Camptothecin Activity (Z-score)\",\n",
    "\t\t main=paste0(\"Camptothecin Activity vs. TMBIM Expression (r = \",\n",
    "\t\t \t\t\t\t\t\tround(pcResults[\"TMBIM1\", \"COR\"], 2), \")\"))\n",
    "abline(lm(formula(\"Camptothecin ~ TMBIM1\"), plotData), col=\"red\")\n",
    "legend(\"bottomleft\", legend=tissueColorTab$tissues, col=tissueColorTab$colors,\n",
    "\t\t\t cex=0.7, pch = 16)\n",
    "\n",
    "plot(x=plotData$BCL2L2, y=plotData$Camptothecin, col=colorTab$colors, pch=16,\n",
    "\t\t xlab=\"BCL2L2 mRNA exp (Z-score)\", ylab=\"Camptothecin Activity (Z-score)\",\n",
    "\t\t main=paste0(\"Camptothecin Activity vs. BCL2L2 Expression (r = \",\n",
    "\t\t \t\t\t\t\t\tround(pcResults[\"BCL2L2\", \"COR\"], 2), \")\"))\n",
    "abline(lm(formula(\"Camptothecin ~ BCL2L2\"), plotData), col=\"red\")\n",
    "legend(\"bottomleft\", legend=tissueColorTab$tissues, col=tissueColorTab$colors,\n",
    "\t\t\t cex=0.7, pch = 16)\n"
   ]
  },
  {
   "cell_type": "markdown",
   "metadata": {},
   "source": [
    "\n",
    "\n",
    "## Relating Gene Alteration Patterns to Drug Responses\n",
    "\n",
    "Alterations of selected DNA repair genes may have predictive value for anticancer\n",
    "drug activity. Using **rcellminer**, we can flexibly script analyses to explore\n",
    "such gene-drug associations. The analyses below follow elements of the approach\n",
    "presented in Sousa et al., though the detailed results may differ somewhat due\n",
    "to simplifications made for illustrative purposes. Our aim is to catalogue\n",
    "impaired DNA repair gene function in the NCI-60, due either to deleterious mutation\n",
    "or lack of expression. These alteration patterns can then be related to drug response\n",
    "behavior by considering differences in drug activity between altered and non-altered\n",
    "cell lines.\n",
    "\n",
    "We start by obtaining NCI-60 drug activity data (-logGI50) for 158 FDA-approved drugs,\n",
    "together with corresponding gene expression data (log2 intensity), and binary muation data\n",
    "(where a value of one indicates the presence of a deleterious mution, in either\n",
    "the heterozygous or homozygous state).\n",
    "\n"
   ]
  },
  {
   "cell_type": "code",
   "execution_count": null,
   "metadata": {
    "Rmd_chunk_options": "getCellMinerData",
    "autoscroll": false,
    "collapsed": true
   },
   "outputs": [],
   "source": [
    "# Get Cellminer data\n",
    "# getFeatureAnnot() returns a named list of data frames with annotation data\n",
    "# for drugs (\"drug\") and drug activity repeat experiments (\"drugRepeat\").\n",
    "drugAnnot <- getFeatureAnnot(rcellminerData::drugData)[[\"drug\"]]\n",
    "fdaDrugAnnot <- drugAnnot[which(drugAnnot$FDA_STATUS == \"FDA approved\"), ]\n",
    "\n",
    "nci60FdaDrugAct <- getDrugActivityData(nscSet = fdaDrugAnnot$NSC)\n",
    "nci60GeneExp <- getAllFeatureData(rcellminerData::molData)[[\"xai\"]]\n",
    "nci60GeneMut <- getAllFeatureData(rcellminerData::molData)[[\"mut\"]]\n"
   ]
  },
  {
   "cell_type": "markdown",
   "metadata": {},
   "source": [
    "\n",
    "We then visualize the NCI-60 mutation patterns for a subset of DNA repair\n",
    "genes.\n"
   ]
  },
  {
   "cell_type": "code",
   "execution_count": null,
   "metadata": {
    "Rmd_chunk_options": "vizDnarGeneMutations, fig.width=10, fig.height=7",
    "autoscroll": false,
    "collapsed": true
   },
   "outputs": [],
   "source": [
    "dnarGeneSet <- c(\"APC\", \"APLF\", \"ATAD5\", \"ATM\", \"CLSPN\", \"ERCC6\", \"FANCI\",\n",
    "                 \"FANCM\", \"GEN1\", \"HLTF\", \"MLH1\", \"POLD1\", \"POLE\", \"POLG\",\n",
    "                 \"POLQ\", \"RAD54L\", \"REV3L\", \"RMI1\", \"SLX4\", \"SMARCA4\", \"SMC2\",\n",
    "                 \"TP53\", \"WRN\")\n",
    "\n",
    "dnarGeneMut <- nci60GeneMut[dnarGeneSet, ]\n",
    "\n",
    "# Identify most frequently mutated genes.\n",
    "numMutLines <- apply(dnarGeneMut, MARGIN = 1, FUN = sum)\n",
    "sort(numMutLines, decreasing = TRUE)\n",
    "\n",
    "dnarGeneMutPlotData <- dnarGeneMut[order(numMutLines), ]\n",
    "heatmap(dnarGeneMutPlotData, scale=\"none\", Rowv = NA, Colv = NA, col = c(\"grey\", \"red\"),\n",
    "\t\t\t\tmain=\"Deleterious mutations\")\n"
   ]
  },
  {
   "cell_type": "markdown",
   "metadata": {},
   "source": [
    "\n",
    "A similar plot can be developed to indicate DNA repair genes with little or no\n",
    "expression in particular NCI-60 cell lines.\n",
    "\n"
   ]
  },
  {
   "cell_type": "code",
   "execution_count": null,
   "metadata": {
    "Rmd_chunk_options": "vizDnarGeneExpKnockouts, fig.width=10, fig.height=7",
    "autoscroll": false,
    "collapsed": true
   },
   "outputs": [],
   "source": [
    "dnarGeneExp <- nci60GeneExp[dnarGeneSet, ]\n",
    "\n",
    "hist(dnarGeneExp, xlab=\"mRNA expression (log2 intensity)\",\n",
    "\t\t main=\"Distribution of DNA repair gene expression values\")\n",
    "\n",
    "# Set low expression threshold to 1st percentile of expression values.\n",
    "lowExpThreshold <- quantile(dnarGeneExp, na.rm = TRUE, probs = c(0.01))\n",
    "lowExpThreshold\n",
    "\n",
    "# Construct binary (potential) expression knockout matrix.\n",
    "dnarGeneExpKo <- matrix(0, nrow=nrow(dnarGeneExp), ncol=ncol(dnarGeneExp))\n",
    "rownames(dnarGeneExpKo) <- rownames(dnarGeneExp)\n",
    "colnames(dnarGeneExpKo) <- colnames(dnarGeneExp)\n",
    "dnarGeneExpKo[which(dnarGeneExp < lowExpThreshold)] <- 1\n",
    "\n",
    "# Restrict to wild type expression knockouts.\n",
    "dnarGeneExpKo[which(dnarGeneMut == 1)] <- 0\n",
    "\n",
    "# Identify genes with most frequent loss of expression.\n",
    "numExpKoLines <- apply(dnarGeneExpKo, MARGIN = 1, FUN = sum)\n",
    "sort(numExpKoLines, decreasing = TRUE)\n",
    "\n",
    "dnarGeneExpKoPlotData <- dnarGeneExpKo[order(numExpKoLines), ]\n",
    "heatmap(dnarGeneExpKoPlotData, scale=\"none\", Rowv = NA, Colv = NA,\n",
    "\t\t\t\tcol = c(\"grey\", \"blue\"), main=\"Potential expression knockouts\")\n"
   ]
  },
  {
   "cell_type": "markdown",
   "metadata": {},
   "source": [
    "\n",
    "Finally, we merge the data from the above plots to show DNA repair gene alterations\n",
    "by mutation or lack of expression.\n",
    "\n"
   ]
  },
  {
   "cell_type": "code",
   "execution_count": null,
   "metadata": {
    "Rmd_chunk_options": "vizDnarGeneAlterations, fig.width=10, fig.height=7",
    "autoscroll": false,
    "collapsed": true
   },
   "outputs": [],
   "source": [
    "dnarGeneAlt <- matrix(0, nrow=nrow(dnarGeneExp), ncol=ncol(dnarGeneExp))\n",
    "rownames(dnarGeneAlt) <- rownames(dnarGeneExp)\n",
    "colnames(dnarGeneAlt) <- colnames(dnarGeneExp)\n",
    "dnarGeneAlt[which(dnarGeneMut == 1)] <- 1\n",
    "dnarGeneAlt[which(dnarGeneExpKo == 1)] <- 2\n",
    "\n",
    "# Identify genes with most frequent alterations (by mutation or lack of expression).\n",
    "numAltLines <- apply(dnarGeneAlt, MARGIN = 1, FUN = sum)\n",
    "sort(numAltLines, decreasing = TRUE)\n",
    "\n",
    "dnarGeneAltPlotData <- dnarGeneAlt[order(numAltLines), ]\n",
    "heatmap(dnarGeneAltPlotData, scale=\"none\", Rowv = NA, Colv = NA,\n",
    "\t\t\t\tcol = c(\"grey\", \"red\", \"blue\"),\n",
    "\t\t\t\tmain=\"Altered genes by mutation (red) or low expression (blue)\")\n"
   ]
  },
  {
   "cell_type": "markdown",
   "metadata": {},
   "source": [
    "\n",
    "For any altered gene, we can identify drugs with significantly different\n",
    "activity between altered and non-altered cell lines.\n"
   ]
  },
  {
   "cell_type": "code",
   "execution_count": null,
   "metadata": {
    "Rmd_chunk_options": "checkAplfDrugAssocs, fig.width=10, fig.height=7",
    "autoscroll": false,
    "collapsed": true
   },
   "outputs": [],
   "source": [
    "geneName <- \"SLX4\"\n",
    "altLineIndices <- which(dnarGeneAlt[geneName, ] != 0)\n",
    "nonAltLineIndices <- which(dnarGeneAlt[geneName, ] == 0)\n",
    "\n",
    "drugAssocTab <- data.frame(GENE=geneName, DRUG_NAME=fdaDrugAnnot$NAME,\n",
    "\t\t\t\t\t\t\t\t\t\t\t\t\t DRUG_NSC=fdaDrugAnnot$NSC, TTEST_PVAL=NA,\n",
    "\t\t\t\t\t\t\t\t\t\t\t\t\t ADJ_PVAL=NA, MEAN_ACT_DIFF=NA,\n",
    "\t\t\t\t\t\t\t\t\t\t\t\t\t stringsAsFactors = FALSE)\n",
    "rownames(drugAssocTab) <- drugAssocTab$DRUG_NSC\n",
    "for (drugNsc in drugAssocTab$DRUG_NSC){\n",
    "\tttestResult <- t.test(x=nci60FdaDrugAct[drugNsc, altLineIndices],\n",
    "\t\t\t\t\t\t\t\t\t\t\t\ty=nci60FdaDrugAct[drugNsc, nonAltLineIndices])\n",
    "\tdrugAssocTab[drugNsc, \"TTEST_PVAL\"] <- ttestResult$p.value\n",
    "\tdrugAssocTab[drugNsc, \"MEAN_ACT_DIFF\"] <-\n",
    "\t\tttestResult$estimate[1] - ttestResult$estimate[2]\n",
    "}\n",
    "\n",
    "drugAssocTab$ADJ_PVAL <- p.adjust(drugAssocTab$TTEST_PVAL, method = \"bonferroni\")\n",
    "drugAssocTab <- drugAssocTab[order(drugAssocTab$ADJ_PVAL), ]\n",
    "\n",
    "drugAssocTab[drugAssocTab$ADJ_PVAL < 0.05,\n",
    "\t\t\t\t\t\t c(\"GENE\", \"DRUG_NAME\", \"DRUG_NSC\", \"ADJ_PVAL\", \"MEAN_ACT_DIFF\")]\n",
    "\n",
    "meanActDiff <- drugAssocTab$MEAN_ACT_DIFF\n",
    "negLog10Pval <- -log10(drugAssocTab$TTEST_PVAL)\n",
    "plot(x=meanActDiff, y=negLog10Pval, xlim = c((min(meanActDiff)-1), (max(meanActDiff)+1)),\n",
    "\t\t xlab=\"Difference between -logGI50 means (altered vs. non-altered lines)\",\n",
    "\t\t ylab=\"-log10(p-value)\", main=(paste0(geneName, \" Drug Response Associations\")))\n",
    "\n",
    "ptLabels <- character(length(drugAssocTab$DRUG_NAME))\n",
    "numLabeledPts <- 7 # label the k most significant drug associations\n",
    "ptLabels[1:numLabeledPts] <- drugAssocTab$DRUG_NAME[1:numLabeledPts]\n",
    "text(x=meanActDiff, negLog10Pval, ptLabels, cex=0.9, pos=4, col=\"red\")\n"
   ]
  },
  {
   "cell_type": "markdown",
   "metadata": {},
   "source": [
    "\n",
    "\n",
    "# Accessing rcellminer Shiny Apps\n",
    "\n",
    "Several [Shiny-based](http://shiny.rstudio.com/) applications have been embedded into **rcellminer** to simplify exploration of the CellMiner data.\n",
    "\n",
    "## Comparison Plot Application\n",
    "\n",
    "The \"Comparison Plot\" application allows users to plot any two variables from the CellMiner data against each other. It additionally allows users to search for compound NSC IDs using names and mechanisms of action. Pattern comparisons, which correlate the variable plotted on the x-axis with all other variables (drug activity patterns, gene expression profiles, etc.), can be computed to obtain a ranked table of results.  The latter can suggest additional 2D plots for visual exploration.  Tooltips provide information about plotted points (cell line name and tissue of origin).\n",
    "\n"
   ]
  },
  {
   "cell_type": "code",
   "execution_count": null,
   "metadata": {
    "Rmd_chunk_options": "comparePlots, eval=FALSE",
    "autoscroll": false,
    "collapsed": true
   },
   "outputs": [],
   "source": [
    "runShinyApp(\"shinyComparePlots\")\n"
   ]
  },
  {
   "cell_type": "markdown",
   "metadata": {},
   "source": [
    "\n",
    "![shinyComparePlots](shinyComparePlots.png)\n",
    "\n",
    "## Compound Browser Application\n",
    "\n",
    "The \"Compound Browser\" application allows users to see information about each compound, including its structure and plots of repeat activity assays over the NCI-60.\n",
    "\n"
   ]
  },
  {
   "cell_type": "code",
   "execution_count": null,
   "metadata": {
    "Rmd_chunk_options": "compoundBrowser, eval=FALSE",
    "autoscroll": false,
    "collapsed": true
   },
   "outputs": [],
   "source": [
    "runShinyApp(\"shinyReprodPlots\")\n"
   ]
  },
  {
   "cell_type": "markdown",
   "metadata": {},
   "source": [
    "\n",
    "![shinyReprodPlots](shinyReprodPlots.png)\n",
    "\n",
    "## Structure Comparison Application\n",
    "\n",
    "The \"Structure Comparison\" application allows users to identify structurally similar compounds within the dataset, with input compounds specified either by NSC ID or SMILES string.\n",
    "\n"
   ]
  },
  {
   "cell_type": "code",
   "execution_count": null,
   "metadata": {
    "Rmd_chunk_options": "compareStructures, eval=FALSE",
    "autoscroll": false,
    "collapsed": true
   },
   "outputs": [],
   "source": [
    "runShinyApp(\"shinyCompareStructures\")\n"
   ]
  },
  {
   "cell_type": "markdown",
   "metadata": {},
   "source": [
    "\n",
    "![shinyCompareStructures](shinyCompareStructures.png)\n",
    "\n",
    "# Session Information\n",
    "\n"
   ]
  },
  {
   "cell_type": "code",
   "execution_count": null,
   "metadata": {
    "Rmd_chunk_options": "sessionInfo",
    "autoscroll": false,
    "collapsed": true
   },
   "outputs": [],
   "source": [
    "sessionInfo()\n"
   ]
  },
  {
   "cell_type": "markdown",
   "metadata": {},
   "source": [
    "\n",
    "# References\n",
    "\n",
    "* Reinhold, W.C., et al. (2012) CellMiner: a web-based suite of genomic and pharmacologic tools to explore transcript and drug patterns in the NCI-60 cell line set. Cancer Research, 72, 3499-3511.\n",
    "\n",
    "* Sousa, F.G., et al. (2015) Alterations of DNA repair genes in the NCi-60 cell lines and their predictive value for anticancer drug activity. DNA Repair 28 (2015) 107-115.\n",
    "\n",
    "* Varma, S., et al. (2014) High Resolution Copy Number Variation Data in the NCI-60 Cancer Cell Lines from Whole Genome Microarrays Accessible through CellMiner. PLoS ONE 9(3): e92047.\n",
    "\n",
    "\n"
   ]
  }
 ],
 "metadata": {
  "Rmd_header": {
   "output": {
    "BiocStyle::html_document": {
     "toc": true,
     "toc_depth": 2
    }
   },
   "title": "Using rcellminer"
  },
  "kernelspec": {
   "display_name": "R",
   "language": "R",
   "name": "ir"
  },
  "language_info": {
   "codemirror_mode": "r",
   "file_extension": ".r",
   "mimetype": "text/x-r-source",
   "name": "R",
   "pygments_lexer": "r"
  }
 },
 "nbformat": 4,
 "nbformat_minor": 0
}
