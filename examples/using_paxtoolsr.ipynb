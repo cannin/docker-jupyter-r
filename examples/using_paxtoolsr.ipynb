{
 "cells": [
  {
   "cell_type": "markdown",
   "metadata": {},
   "source": [
    "\n",
    "<!--\n",
    "%\\VignetteEngine{knitr::rmarkdown}\n",
    "%\\VignetteIndexEntry{Using PaxtoolsR}\n",
    "%\\VignetteKeywords{paxtoolsr}\n",
    "%\\VignetteDepends{paxtoolsr}\n",
    "%\\VignettePackage{paxtoolsr}\n",
    "-->\n",
    "\n",
    "# PaxtoolsR Tutorial\n",
    "\n"
   ]
  },
  {
   "cell_type": "code",
   "execution_count": null,
   "metadata": {
    "Rmd_chunk_options": "knitrSetup, include=FALSE",
    "autoscroll": false,
    "collapsed": true
   },
   "outputs": [],
   "source": [
    "library(knitr)\n",
    "opts_chunk$set(out.extra='style=\"display:block; margin: auto\"', fig.align=\"center\", tidy=TRUE)\n",
    "\n"
   ]
  },
  {
   "cell_type": "code",
   "execution_count": null,
   "metadata": {
    "Rmd_chunk_options": "style, include=FALSE, echo=FALSE, results='asis'",
    "autoscroll": false,
    "collapsed": true
   },
   "outputs": [],
   "source": [
    "BiocStyle::markdown()\n"
   ]
  },
  {
   "cell_type": "markdown",
   "metadata": {},
   "source": [
    "\n",
    "The **paxtoolsr** package exposes a number of the algorithms and functions provided by the Paxtools Java library and Pathway Commons webservice allowing them to be used in R.\n",
    "\n",
    "# Overview\n",
    "\n",
    "## BioPAX, Paxtools, Pathway Commons, and the Simple Interaction Format\n",
    "\n",
    "The [Biological Pathway Exchange](http://www.ncbi.nlm.nih.gov/pubmed/20829833) (BioPAX) format is a community-driven standard language to represent biological pathways at the molecular and cellular level and to facilitate the exchange of pathway data. BioPAX can represent metabolic and signaling pathways, molecular and genetic interactions and gene regulation networks. Using BioPAX, millions of interactions, organized into thousands of pathways, from many organisms are available from a growing number of databases. This large amount of pathway data in a computable form will support visualization, analysis and biological discovery. The BioPAX format using syntax for data exchange based on the OWL ([Web Ontology Language](http://www.w3.org/TR/owl2-overview/)) that aids pathway data integration; classes in the BioPAX ontology are described [here](http://www.biopax.org/owldoc/Level3/). Ontologies are formal systems for knowledge representation allowing machine-readability of pathway data; one well-known example of a biological ontology is the [Gene Ontology](http://geneontology.org) for biological terms.\n",
    "\n",
    "[Paxtools](http://www.ncbi.nlm.nih.gov/pubmed/24068901) is a Java libary that allows users to interact with biological pathways represented in the BioPAX language. [Pathway Commons](http://www.pathwaycommons.org/about/) is a resource that integrates biological pathway information for a number of public pathway databases, including Reactome, PantherDB, HumanCyc, etc. that are represented using the BioPAX language.\n",
    "\n",
    "**NOTE:** BioPAX can encode very detailed information about biological processes. Analysis of this data, however, can be complicated as one needs to consider a wide array of n-ary relationships, different states of entities and generics. An alternative approach is to derive higher order relations based on a set of templates to define a simple binary network between biological entities and use conventional graph algorithms to analyze it. For many users of this package, the binary representation termed the Simple Interaction Format (SIF) will be the main entry point to the usage of BioPAX data. Conversion of BioPAX datasets to the SIF format is done through a series of [simplification rules](https://docs.google.com/document/d/1coFo66uuPQQ4ZMSHr8IzCV7I2DwXCoDBfZw7Vg4MgUE/edit?usp=sharing).\n",
    "\n",
    "## Limitations\n",
    "\n",
    "The Paxtools Java library produces that full model of a given BioPAX data set that can be searched via code. The **paxtoolsr** provides a limited set of functionality mainly to produce SIF representations of networks that can be analyzed in R.\n",
    "\n",
    "# Basics\n",
    "\n",
    "## Installation\n",
    "\n"
   ]
  },
  {
   "cell_type": "code",
   "execution_count": null,
   "metadata": {
    "Rmd_chunk_options": "installPaxtoolsr, eval=FALSE",
    "autoscroll": false,
    "collapsed": true
   },
   "outputs": [],
   "source": [
    "source(\"http://bioconductor.org/biocLite.R\")\n",
    "biocLite(\"paxtoolsr\")\n"
   ]
  },
  {
   "cell_type": "markdown",
   "metadata": {},
   "source": [
    "\n",
    "## Getting Started\n",
    "\n",
    "Load **paxtoolsr** package:\n",
    "\n"
   ]
  },
  {
   "cell_type": "code",
   "execution_count": null,
   "metadata": {
    "Rmd_chunk_options": "loadLibrary, message=FALSE, warning=FALSE",
    "autoscroll": false,
    "collapsed": true
   },
   "outputs": [],
   "source": [
    "library(paxtoolsr)\n"
   ]
  },
  {
   "cell_type": "markdown",
   "metadata": {},
   "source": [
    "\n",
    "A list of all accessible vignettes and methods is available with the following command:\n",
    "\n"
   ]
  },
  {
   "cell_type": "code",
   "execution_count": null,
   "metadata": {
    "Rmd_chunk_options": "searchHelp, eval=FALSE, tidy=FALSE",
    "autoscroll": false,
    "collapsed": true
   },
   "outputs": [],
   "source": [
    "help.search(\"paxtoolsr\")\n"
   ]
  },
  {
   "cell_type": "markdown",
   "metadata": {},
   "source": [
    "\n",
    "For help on any **paxtoolsr** package functions, use one of the following command formats:\n",
    "\n"
   ]
  },
  {
   "cell_type": "code",
   "execution_count": null,
   "metadata": {
    "Rmd_chunk_options": "showHelp, eval=FALSE, tidy=FALSE",
    "autoscroll": false,
    "collapsed": true
   },
   "outputs": [],
   "source": [
    "help(graphPc)\n",
    "?graphPc\n"
   ]
  },
  {
   "cell_type": "markdown",
   "metadata": {},
   "source": [
    "\n",
    "## Common Function Return Types\n",
    "\n",
    "**paxtoolsr** return two main types of values **data.frame** and **XMLInternalDocument**. Data.frames are table like data structures. **XMLInternalDocument** is a representation provided by the **XML** package and this data structure form is returned for functions that search or return raw BioPAX results. An **XMLInternalDocument** can be used as the input for any function requiring a BioPAX file.\n",
    "\n",
    "# Handling BioPAX OWL Files\n",
    "\n",
    "**paxtoolsr** provides several functions for handling BioPAX OWL files. paxtoolsr provides several functions for handling BioPAX OWL files: merging, validation, conversion to other formats. Many databases with protein-protein interactions and pathway information export the BioPAX format and BioPAX files; databases that support the BioPAX format can be found on [PathGuide](http://pathguide.org/), a resource for pathway information.\n",
    "\n",
    "## Merging BioPAX Files\n",
    "\n",
    "We illustrate how to merge two BioPAX files. Only entities that share IDs will be merged; no additional merging occurs on cross-references. The merging occurs as described further in the Java library [documentation](http://sourceforge.net/projects/biopax/files/paxtools/paxtools.pdf/download). Throughout this tutorial we use the system.file() command to access sample BioPAX files included with the **paxtoolsr** package. Merging may result in warning messages caused as a result of redundant actions being checked against by the Java library; these messages may be ignored.\n",
    "\n"
   ]
  },
  {
   "cell_type": "code",
   "execution_count": null,
   "metadata": {
    "Rmd_chunk_options": "paxtoolsMergeExample",
    "autoscroll": false,
    "collapsed": true
   },
   "outputs": [],
   "source": [
    "file1 <- system.file(\"extdata\", \"raf_map_kinase_cascade_reactome.owl\", package=\"paxtoolsr\")\n",
    "file2 <- system.file(\"extdata\", \"biopax3-short-metabolic-pathway.owl\", package=\"paxtoolsr\")\n",
    "\n",
    "mergedFile <- mergeBiopax(file1, file2)\n"
   ]
  },
  {
   "cell_type": "markdown",
   "metadata": {},
   "source": [
    "\n",
    "Here we summarize information about one of the BioPAX files provide in the **paxtoolsr** package. The summarize() function produces a counts for various BioPAX classes and can be used to filter through BioPAX files matching particular characteristics. In the example below, we show that the merged file contains the sum of the Catalysis elements from the original two BioPAX files. This can be used iterate over and to identify files with particular properties quickly or to summarize across the files from a set.\n",
    "\n"
   ]
  },
  {
   "cell_type": "code",
   "execution_count": null,
   "metadata": {
    "Rmd_chunk_options": "summarize, results='hold'",
    "autoscroll": false,
    "collapsed": true
   },
   "outputs": [],
   "source": [
    "s1 <- summarize(file1)\n",
    "s2 <- summarize(file2)\n",
    "s3 <- summarize(mergedFile)\n",
    "\n",
    "s1$Catalysis\n",
    "s2$Catalysis\n",
    "s3$Catalysis\n"
   ]
  },
  {
   "cell_type": "markdown",
   "metadata": {},
   "source": [
    "\n",
    "## Validating BioPAX Files\n",
    "\n",
    "To validate BioPAX **paxtoolsr** the types of validation performed are described in the [**BioPAX Validator**](http://www.ncbi.nlm.nih.gov/pubmed/23918249) publication by Rodchenkov I, et al.\n",
    "\n"
   ]
  },
  {
   "cell_type": "code",
   "execution_count": null,
   "metadata": {
    "Rmd_chunk_options": "paxtoolsValidationExample, eval=FALSE",
    "autoscroll": false,
    "collapsed": true
   },
   "outputs": [],
   "source": [
    "errorLog <- validate(system.file(\"extdata\", \"raf_map_kinase_cascade_reactome.owl\", package=\"paxtoolsr\"), onlyErrors=TRUE)\n"
   ]
  },
  {
   "cell_type": "markdown",
   "metadata": {},
   "source": [
    "\n",
    "## Converting BioPAX Files to Other Formats\n",
    "\n",
    "It is often useful to convert BioPAX into other formats. Currently, **paxtoolsr** supports conversion to [Gene Set Enrichment Analysis](http://www.broadinstitute.org/gsea/index.jsp) (GSEA, .gmt), [Systems Biology Graphical Notation](http://www.sbgn.org/) (SBGN, .sbgn), [Simple Interaction Format](SIF).\n",
    "\n",
    "### Simple Interaction Format (SIF) Network\n",
    "\n",
    "The basic SIF format includes a three columns: PARTICIPANT_A, INTERACTION_TYPE, and PARTICIPANT_B; possible INTERACTION_TYPEs are described [here](http://www.pathwaycommons.org/pc/sif_interaction_rules.do).\n",
    "\n"
   ]
  },
  {
   "cell_type": "code",
   "execution_count": null,
   "metadata": {
    "Rmd_chunk_options": "loadSifFromFile",
    "autoscroll": false,
    "collapsed": true
   },
   "outputs": [],
   "source": [
    "sif <- toSif(system.file(\"extdata\", \"biopax3-short-metabolic-pathway.owl\", package=\"paxtoolsr\"))\n"
   ]
  },
  {
   "cell_type": "markdown",
   "metadata": {},
   "source": [
    "\n",
    "SIF representations of networks are returned as **data.frame** objects. SIF representations can be readily be visualized in network analysis tools, such as [Cytoscape](http://www.cytoscape.org), which can be interfaced with through the R package, [RCytoscape](http://www.bioconductor.org/packages/release/bioc/html/RCytoscape.html).\n",
    "\n"
   ]
  },
  {
   "cell_type": "code",
   "execution_count": null,
   "metadata": {
    "Rmd_chunk_options": "viewSifHead",
    "autoscroll": false,
    "collapsed": true
   },
   "outputs": [],
   "source": [
    "head(sif)\n"
   ]
  },
  {
   "cell_type": "markdown",
   "metadata": {},
   "source": [
    "\n",
    "### Extended Simple Interaction Format (SIF) Network\n",
    "\n",
    "Often analysis requires additional items of information, this could be the literature references related to a resource or the name of the data source where an interaction was derived. This information can be retrieved as part of an extended SIF network. A BioPAX dataset can be converted to extended SIF network.\n",
    "\n"
   ]
  },
  {
   "cell_type": "code",
   "execution_count": null,
   "metadata": {
    "Rmd_chunk_options": "toSifnxExample, tidy=TRUE",
    "autoscroll": false,
    "collapsed": true
   },
   "outputs": [],
   "source": [
    "# Select additional node and edge properties\n",
    "inputFile <- system.file(\"extdata\", \"raf_map_kinase_cascade_reactome.owl\", package=\"paxtoolsr\")\n",
    "\n",
    "results <- toSifnx(inputFile=inputFile)\n"
   ]
  },
  {
   "cell_type": "markdown",
   "metadata": {},
   "source": [
    "\n",
    "The **results** object is a list with two entries: nodes and edges. **nodes** will be a **data.table** where each row corresponds to a biological entity, an **EntityReference**, and will contain any user-selected node properties as additional columns. Similarly, **edges** will be a **data.table** with a SIF extended with any user-selected properties for an **Interaction** as additional columns. Information on possible properties for an EntityReference or Interaction is available through the [BioPAX ontology](http://www.biopax.org/owldoc/Level3/). It is also possible to download a pre-computed extended SIF representation for the entire [Pathway Commons database](http://www.pathwaycommons.org) that includes information about the data sources for interactions and identifiers for nodes; refer to documentation of the method for more details about the returned entries.\n",
    "\n",
    "**NOTE:** Conversion of **results** entries from **data.table** to **data.frame** can be done using **setDF** in the **data.table** package.\n",
    "\n",
    "**NOTE:** **downloadPc** may take several minutes to complete. It is suggested that the results of this command be saved locally rather than using this command frequently.\n",
    "\n"
   ]
  },
  {
   "cell_type": "code",
   "execution_count": null,
   "metadata": {
    "Rmd_chunk_options": "downloadSif, eval=FALSE",
    "autoscroll": false,
    "collapsed": true
   },
   "outputs": [],
   "source": [
    "results <- downloadPc(format=\"SIFNX\")\n"
   ]
  },
  {
   "cell_type": "markdown",
   "metadata": {},
   "source": [
    "\n",
    "# Searching Pathway Commons\n",
    "\n",
    "Networks can also be loaded using Pathway Commons rather than from local BioPAX files. First, we show how Pathway Commons can be searched.\n",
    "\n"
   ]
  },
  {
   "cell_type": "code",
   "execution_count": null,
   "metadata": {
    "Rmd_chunk_options": "searchResultsExample, eval=FALSE",
    "autoscroll": false,
    "collapsed": true
   },
   "outputs": [],
   "source": [
    "## Search Pathway Commons for \"glycolysis\"-related pathways\n",
    "searchResults <- searchPc(q=\"glycolysis\", type=\"pathway\")\n"
   ]
  },
  {
   "cell_type": "markdown",
   "metadata": {},
   "source": [
    "\n",
    "All functions that query Pathway Commons include a flag **verbose** that allows users to see the query URL sent to Pathway Commons for debugging purposes.\n",
    "\n"
   ]
  },
  {
   "cell_type": "code",
   "execution_count": null,
   "metadata": {
    "Rmd_chunk_options": "searchResultsExampleVerbose",
    "autoscroll": false,
    "collapsed": true
   },
   "outputs": [],
   "source": [
    "## Search Pathway Commons for \"glycolysis\"-related pathways\n",
    "searchResults <- searchPc(q=\"glycolysis\", type=\"pathway\", verbose=TRUE)\n"
   ]
  },
  {
   "cell_type": "markdown",
   "metadata": {},
   "source": [
    "\n",
    "Pathway Commons search results are returned as an XML object.\n",
    "\n"
   ]
  },
  {
   "cell_type": "code",
   "execution_count": null,
   "metadata": {
    "Rmd_chunk_options": "searchResultsType",
    "autoscroll": false,
    "collapsed": true
   },
   "outputs": [],
   "source": [
    "str(searchResults)\n"
   ]
  },
  {
   "cell_type": "markdown",
   "metadata": {},
   "source": [
    "\n",
    "These results can be filtered using the **XML** package using XPath expressions; [examples of XPath expressions and syntax](http://www.w3schools.com/xpath/xpath_examples.asp). The examples here shows how to pull the name for the pathway and the URI that contains information about the pathway in the BioPAX format.\n",
    "\n"
   ]
  },
  {
   "cell_type": "code",
   "execution_count": null,
   "metadata": {
    "Rmd_chunk_options": "searchResultsXpathExample",
    "autoscroll": false,
    "collapsed": true
   },
   "outputs": [],
   "source": [
    "xpathSApply(searchResults, \"/searchResponse/searchHit/name\", xmlValue)[1]\n",
    "xpathSApply(searchResults, \"/searchResponse/searchHit/pathway\", xmlValue)[1]\n"
   ]
  },
  {
   "cell_type": "markdown",
   "metadata": {},
   "source": [
    "\n",
    "Alternatively, these XML results can be converted to data.frames using the **XML** and **plyr** libraries.\n",
    "\n"
   ]
  },
  {
   "cell_type": "code",
   "execution_count": null,
   "metadata": {
    "Rmd_chunk_options": "convertXmlToDf, message=FALSE",
    "autoscroll": false,
    "collapsed": true
   },
   "outputs": [],
   "source": [
    "library(plyr)\n",
    "searchResultsDf <- ldply(xmlToList(searchResults), data.frame)\n",
    "\n",
    "# Simplified results\n",
    "simplifiedSearchResultsDf <- searchResultsDf[, c(\"name\", \"uri\", \"biopaxClass\")]\n"
   ]
  },
  {
   "cell_type": "markdown",
   "metadata": {},
   "source": [
    "\n",
    "This type of searching can be used to locally save BioPAX files retrieved from Pathway Commons.\n",
    "\n"
   ]
  },
  {
   "cell_type": "code",
   "execution_count": null,
   "metadata": {
    "Rmd_chunk_options": "saveBiopaxFileFromPcQuery, message=FALSE, results='hide'",
    "autoscroll": false,
    "collapsed": true
   },
   "outputs": [],
   "source": [
    "## Use an XPath expression to extract the results of interest. In this case, the URIs (IDs) for the pathways from the results\n",
    "searchResults <- xpathSApply(searchResults, \"/searchResponse/searchHit/uri\", xmlValue)\n",
    "\n",
    "## Generate temporary file to save content into\n",
    "biopaxFile <- tempfile()\n",
    "\n",
    "## Extract a URI for a pathway in the search results and save into a file\n",
    "idx <- which(grepl(\"panther\", simplifiedSearchResultsDf$uri) &\n",
    "             grepl(\"glycolysis\", simplifiedSearchResultsDf$name, ignore.case=TRUE))\n",
    "uri <- simplifiedSearchResultsDf$uri[idx]\n",
    "saveXML(getPc(uri, \"BIOPAX\"), biopaxFile)\n"
   ]
  },
  {
   "cell_type": "markdown",
   "metadata": {},
   "source": [
    "\n",
    "# Extracting Information from BioPAX Datasets Using traverse()\n",
    "\n",
    "The **traverse** function allows the extraction of specific entries from BioPAX records. traverse() functionality should be available for any **uniprot.org** or **purl.org** URI.\n",
    "\n"
   ]
  },
  {
   "cell_type": "code",
   "execution_count": null,
   "metadata": {
    "Rmd_chunk_options": "traverse",
    "autoscroll": false,
    "collapsed": true
   },
   "outputs": [],
   "source": [
    "# Get the protein Uniprot ID for a given HGNC gene symbol\n",
    "id <- idMapping(\"AKT1\")\n",
    "\n",
    "# Covert the Uniprot ID to a URI that would be found in Pathway Commons\n",
    "uri <- paste0(\"http://identifiers.org/uniprot/\", id)\n",
    "\n",
    "# Get URIs for only the ModificationFeatures of the protein\n",
    "xml <- traverse(uri=uri, path=\"ProteinReference/entityFeature:ModificationFeature\")\n",
    "\n",
    "# Extract all the URIs\n",
    "uris <- xpathSApply(xml, \"//value/text()\", xmlValue)\n",
    "\n",
    "# For the first URI get the modification position and type\n",
    "tmpXml <- traverse(uri=uris[1], path=\"ModificationFeature/featureLocation:SequenceSite/sequencePosition\")\n",
    "cat(\"Modification Position: \", xpathSApply(tmpXml, \"//value/text()\", xmlValue))\n",
    "\n",
    "tmpXml <- traverse(uri=uris[1], path=\"ModificationFeature/modificationType/term\")\n",
    "cat(\"Modification Type: \", xpathSApply(tmpXml, \"//value/text()\", xmlValue))\n"
   ]
  },
  {
   "cell_type": "markdown",
   "metadata": {},
   "source": [
    "\n",
    "# Common Data Visualization Pathways and Network Analysis\n",
    "\n",
    "## Visualizing SIF Interactions from Pathway Commons using R Graph Libraries\n",
    "\n",
    "A common use case for **paxtoolsr** to retrieve a network or sub-network from a pathway derived from a BioPAX file or a Pathway Commons query. Next, we show how to visualize subnetworks loaded from BioPAX files and retrieved using the Pathway Commons webservice. To do this, we use the **igraph** R graph library because it has simple methods for loading edgelists, analyzing the networks, and visualizing these networks.\n",
    "\n",
    "Next, we show how subnetworks queried from Pathway Commons can be visualized directly in R using the **igraph** library. Alternatively, these graphical plots can be made using [Cytoscape](http://cytoscape.org) either by exporting the SIF format and then importing the SIF format into Cytoscape or by using the **RCytoscape** package to work with Cytoscape directly from R.\n",
    "\n"
   ]
  },
  {
   "cell_type": "code",
   "execution_count": null,
   "metadata": {
    "Rmd_chunk_options": "loadGraphLibraries, message=FALSE",
    "autoscroll": false,
    "collapsed": true
   },
   "outputs": [],
   "source": [
    "library(igraph)\n"
   ]
  },
  {
   "cell_type": "markdown",
   "metadata": {},
   "source": [
    "\n",
    "We load the network from a BioPAX file using the SIF format:\n",
    "\n"
   ]
  },
  {
   "cell_type": "code",
   "execution_count": null,
   "metadata": {
    "Rmd_chunk_options": "plotGraph",
    "autoscroll": false,
    "collapsed": true
   },
   "outputs": [],
   "source": [
    "sif <- toSif(system.file(\"extdata\", \"biopax3-short-metabolic-pathway.owl\", package=\"paxtoolsr\"))\n",
    "\n",
    "# graph.edgelist requires a matrix\n",
    "g <- graph.edgelist(as.matrix(sif[,c(1,3)]), directed=FALSE)\n",
    "plot(g, layout=layout.fruchterman.reingold)\n"
   ]
  },
  {
   "cell_type": "markdown",
   "metadata": {},
   "source": [
    "\n",
    "## Pathway Commons Graph Query\n",
    "\n",
    "Next, we show how to perform graph search using Pathway Commons useful for finding connections and neighborhoods of elements. This can be used to extract the neighborhood of a single gene that is then filtered for a specific interaction type: \"controls-state-change-of\". State change here indicates a modification of another molecule (e.g. post-translational modifications). This interaction type is directed, and it is read as \"A controls a state change of B\".\n",
    "\n"
   ]
  },
  {
   "cell_type": "code",
   "execution_count": null,
   "metadata": {
    "Rmd_chunk_options": "graphQueryExampleSingle",
    "autoscroll": false,
    "collapsed": true
   },
   "outputs": [],
   "source": [
    "gene <- \"SIRT1\"\n",
    "t1 <- results <- graphPc(source=gene, kind=\"neighborhood\", format=\"BINARY_SIF\")\n",
    "t2 <- t1[which(t1[,2] == \"controls-state-change-of\"),]\n",
    "\n",
    "g <- graph.edgelist(as.matrix(t2[,c(1,3)]), directed=FALSE)\n",
    "plot(g, layout=layout.fruchterman.reingold)\n"
   ]
  },
  {
   "cell_type": "markdown",
   "metadata": {},
   "source": [
    "\n",
    "The example below shows the extraction of a sub-network connecting a set of proteins:\n",
    "\n"
   ]
  },
  {
   "cell_type": "code",
   "execution_count": null,
   "metadata": {
    "Rmd_chunk_options": "graphQueryExample",
    "autoscroll": false,
    "collapsed": true
   },
   "outputs": [],
   "source": [
    "genes <- c(\"AKT1\", \"IRS1\", \"MTOR\", \"IGF1R\")\n",
    "t1 <- graphPc(source=genes,\n",
    "              kind=\"PATHSBETWEEN\",\n",
    "              format=\"BINARY_SIF\",\n",
    "              verbose=TRUE)\n",
    "t2 <- t1[which(t1[,2] == \"controls-state-change-of\"),]\n",
    "\n",
    "g <- graph.edgelist(as.matrix(t2[,c(1,3)]), directed=FALSE)\n",
    "plot(g, layout=layout.fruchterman.reingold)\n"
   ]
  },
  {
   "cell_type": "markdown",
   "metadata": {},
   "source": [
    "\n",
    "## Overlaying Experimental Data on Pathway Commons Networks\n",
    "\n",
    "Often, it is useful not only to visualize a biological pathway, but also to overlay a given network with some form of biological data, such as gene expression values for genes in the network.\n",
    "\n"
   ]
  },
  {
   "cell_type": "code",
   "execution_count": null,
   "metadata": {
    "Rmd_chunk_options": "dataOverlayExample",
    "autoscroll": false,
    "collapsed": true
   },
   "outputs": [],
   "source": [
    "library(RColorBrewer)\n",
    "\n",
    "# Generate a color palette that goes from white to red that contains 10 colors\n",
    "numColors <- 10\n",
    "colors <- colorRampPalette(brewer.pal(9, \"Reds\"))(numColors)\n",
    "\n",
    "# Generate values that could represent some experimental values\n",
    "values <- runif(length(V(g)$name))\n",
    "\n",
    "# Scale values to generate indicies from the color palette\n",
    "xrange <- range(values)\n",
    "newrange <- c(1, numColors)\n",
    "\n",
    "factor <- (newrange[2]-newrange[1]) / (xrange[2]-xrange[1])\n",
    "scaledValues <- newrange[1] + (values-xrange[1]) * factor\n",
    "indicies <- as.integer(scaledValues)\n",
    "\n",
    "# Color the nodes based using the indicies and the color palette created above\n",
    "g <- set.vertex.attribute(g, \"color\", value=colors[indicies])\n",
    "\n",
    "#get.vertex.attribute(h, \"color\")\n",
    "\n",
    "plot(g, layout = layout.fruchterman.reingold)\n"
   ]
  },
  {
   "cell_type": "markdown",
   "metadata": {},
   "source": [
    "\n",
    "## Network Statistics\n",
    "\n",
    "Often it is useful to produce statistics on a network. Here we show how to determine SIF network statistics and statistics on BioPAX files.\n",
    "\n",
    "### SIF Network Statistics\n",
    "\n",
    "Once Pathway Commons and BioPAX networks are loaded as graphs using the **igraph** R package, it is possible to analyze these networks. Here we show how to get common statistics for the current network retrieved from Pathway Commons:\n",
    "\n"
   ]
  },
  {
   "cell_type": "code",
   "execution_count": null,
   "metadata": {
    "Rmd_chunk_options": "sifNetStats",
    "autoscroll": false,
    "collapsed": true
   },
   "outputs": [],
   "source": [
    "# Degree for each node in the igraph network\n",
    "degree(g)\n",
    "#Number of nodes\n",
    "length(V(g)$name)\n",
    "#Clustering coefficient\n",
    "transitivity(g)\n",
    "#Network density\n",
    "graph.density(g)\n",
    "# Network diameter\n",
    "diameter(g)\n"
   ]
  },
  {
   "cell_type": "markdown",
   "metadata": {},
   "source": [
    "\n",
    "Another common task determine paths between nodes in a network.\n",
    "\n"
   ]
  },
  {
   "cell_type": "code",
   "execution_count": null,
   "metadata": {
    "Rmd_chunk_options": "sifShortestPath",
    "autoscroll": false,
    "collapsed": true
   },
   "outputs": [],
   "source": [
    "# Get the first shortest path between two nodes\n",
    "tmp <- get.shortest.paths(g, from=\"IRS1\", to=\"MTOR\")\n",
    "\n",
    "# igraph seems to return different objects on Linux versus OS X for get.shortest.paths()\n",
    "if(class(tmp[[1]]) == \"list\") {\n",
    "\tpath <- tmp[[1]][[1]]\t# Linux\n",
    "} else {\n",
    "  path <- tmp[[1]] # OS X\n",
    "}\n",
    "\n",
    "# Convert from indicies to vertex names\n",
    "V(g)$name[path]\n"
   ]
  },
  {
   "cell_type": "markdown",
   "metadata": {},
   "source": [
    "\n",
    "# Gene Set Enrichment Analysis with Pathway Commons\n",
    "\n",
    "The processing of the microarray data is taken from the following webpage: [Bioconductor Tutorial on Microarray Processing and Gene Set Analysis](http://www.bioconductor.org/help/course-materials/2005/BioC2005/labs/lab01/estrogen/) with for grabbing gene sets from a Pathway Commons pathway and using same data as in the example, but stored in the **estrogen** R package.\n",
    "\n",
    "To access microarray data sets, users should consider retrieving data from the NCBI Gene Expression Omnibus (GEO) using the [GEOQuery package](http://www.bioconductor.org/packages/2.13/bioc/html/GEOquery.html).\n",
    "\n",
    "The first thing we'll do is load up the necessary packages.\n",
    "\n"
   ]
  },
  {
   "cell_type": "code",
   "execution_count": null,
   "metadata": {
    "Rmd_chunk_options": "gseaExampleLibraries, message=FALSE",
    "autoscroll": false,
    "collapsed": true
   },
   "outputs": [],
   "source": [
    "library(paxtoolsr) # To retrieve data from Pathway Commons\n",
    "library(limma) # Contains geneSetTest\n",
    "library(affy) # To load microarray data\n",
    "library(hgu95av2) # Annotation packages for the hgu95av2 platform\n",
    "library(hgu95av2cdf)\n",
    "library(XML) # To parse XML files\n"
   ]
  },
  {
   "cell_type": "markdown",
   "metadata": {},
   "source": [
    "\n",
    "We then retrieve a pathway of interest using the the Pathway Commons search functionality.\n",
    "\n"
   ]
  },
  {
   "cell_type": "code",
   "execution_count": null,
   "metadata": {
    "Rmd_chunk_options": "gseaExampleGenGeneSet, results='hide', eval=FALSE",
    "autoscroll": false,
    "collapsed": true
   },
   "outputs": [],
   "source": [
    "# Generate a Gene Set\n",
    "## Search Pathway Commons for \"glycolysis\"-related pathways\n",
    "searchResults <- searchPc(q=\"glycolysis\", type=\"pathway\")\n",
    "\n",
    "## Use an XPath expression to extract the results of interest. In this case, the URIs (IDs) for the pathways from the results\n",
    "searchResults <- xpathSApply(searchResults, \"/searchResponse/searchHit/uri\", xmlValue)\n",
    "\n",
    "## Generate temporary files to save content into\n",
    "biopaxFile <- tempfile()\n",
    "\n",
    "## Extract the URI for the first pathway in the search results and save into a file\n",
    "uri <- searchResults[2]\n",
    "saveXML(getPc(uri, \"BIOPAX\"), biopaxFile)\n"
   ]
  },
  {
   "cell_type": "markdown",
   "metadata": {},
   "source": [
    "\n",
    "And then, we convert this pathway to a gene set.\n",
    "\n"
   ]
  },
  {
   "cell_type": "code",
   "execution_count": null,
   "metadata": {
    "Rmd_chunk_options": "gseaExampleGenGeneSetSave, results='hide'",
    "autoscroll": false,
    "collapsed": true
   },
   "outputs": [],
   "source": [
    "## Generate temporary files to save content into\n",
    "gseaFile <- tempfile()\n",
    "\n",
    "## Generate a gene set for the BioPAX pathway with gene symbols\n",
    "### NOTE: Not all search results are guaranteed to result in gene sets\n",
    "tmp <- toGSEA(biopaxFile, gseaFile, \"HGNC Symbol\", FALSE)\n",
    "geneSet <- tmp$geneSet\n"
   ]
  },
  {
   "cell_type": "markdown",
   "metadata": {},
   "source": [
    "\n",
    "Finally, we process the microarray data and apply the gene set entrichment analysis.\n",
    "\n"
   ]
  },
  {
   "cell_type": "code",
   "execution_count": null,
   "metadata": {
    "Rmd_chunk_options": "gseaExampleMicroarrayAnalyis",
    "autoscroll": false,
    "collapsed": true
   },
   "outputs": [],
   "source": [
    "# Process Microarray Data\n",
    "## Load/process the estrogen microarray data\n",
    "estrogenDataDir <- system.file(\"extdata\", package=\"estrogen\")\n",
    "targets <- readTargets(file.path(estrogenDataDir, \"estrogen.txt\"), sep=\"\")\n",
    "\n",
    "abatch <- ReadAffy(filenames=file.path(estrogenDataDir, targets$filename))\n",
    "eset <- rma(abatch)\n",
    "\n",
    "f <- paste(targets$estrogen,targets$time.h,sep=\"\")\n",
    "f <- factor(f)\n",
    "design <- model.matrix(~0+f)\n",
    "colnames(design) <- levels(f)\n",
    "\n",
    "fit <- lmFit(eset, design)\n",
    "\n",
    "cont.matrix <- makeContrasts(E10=\"present10-absent10\",E48=\"present48-absent48\",Time=\"absent48-absent10\",levels=design)\n",
    "\n",
    "fit2  <- contrasts.fit(fit, cont.matrix)\n",
    "fit2  <- eBayes(fit2)\n",
    "\n",
    "## Map the gene symbols to the probe IDs\n",
    "symbol <- unlist(as.list(hgu95av2SYMBOL))\n",
    "\n",
    "### Check that the gene symbols are on the microarray platform\n",
    "genesOnChip <- match(geneSet,symbol)\n",
    "genesOnChip # CHECK FOR ERROR HERE\n",
    "\n",
    "genesOnChip <- genesOnChip[!is.na(genesOnChip)]\n",
    "\n",
    "### Grab the probe IDs for the genes present\n",
    "genesOnChip <- names(symbol[genesOnChip])\n",
    "genesOnChip <- match(genesOnChip, rownames(fit2$t))\n",
    "genesOnChip <- genesOnChip[!is.na(genesOnChip)]\n",
    "\n",
    "## Run the Gene Set Test from the limma Package\n",
    "geneSetTest(genesOnChip,fit2$t[,1],\"two.sided\")\n"
   ]
  },
  {
   "cell_type": "markdown",
   "metadata": {},
   "source": [
    "\n",
    "# ID Mapping\n",
    "\n",
    "Functions and results from **paxtoolsr** functions can be used in conjunction with the ID mapping functions of the [**biomaRt** Bioconductor package](http://www.bioconductor.org/packages/release/bioc/html/biomaRt.html); users should check the the **biomaRt** package documentation for a list of possible ID types.\n",
    "\n"
   ]
  },
  {
   "cell_type": "code",
   "execution_count": null,
   "metadata": {
    "Rmd_chunk_options": "idMapping, eval=FALSE",
    "autoscroll": false,
    "collapsed": true
   },
   "outputs": [],
   "source": [
    "sif <- toSif(system.file(\"extdata\", \"raf_map_kinase_cascade_reactome.owl\", package=\"paxtoolsr\"))\n",
    "\n",
    "# Generate a mapping between the HGNC symbols in the SIF to the Uniprot IDs\n",
    "library(biomaRt)\n",
    "ensembl <- useMart(\"ensembl\")\n",
    "ensembl <- useDataset(\"hsapiens_gene_ensembl\", mart=ensembl)\n",
    "\n",
    "hgnc_symbol <- c(sif$PARTICIPANT_A, sif$PARTICIPANT_B)\n",
    "output <- getBM(attributes=c('hgnc_symbol', 'uniprot_sptrembl'), filters='hgnc_symbol', values=hgnc_symbol, mart=ensembl)\n",
    "\n",
    "# Remove blank entries\n",
    "output <- output[output[,2] != \"\",]\n"
   ]
  },
  {
   "cell_type": "markdown",
   "metadata": {},
   "source": [
    "\n",
    "# Troubleshooting\n",
    "\n",
    "## File Paths\n",
    "\n",
    "Use properly delimited and full paths (do not use relative paths, such as ../directory/file or ~/directory/file) to files should be used with the **paxtoolsr** package.\n",
    "\n"
   ]
  },
  {
   "cell_type": "code",
   "execution_count": null,
   "metadata": {
    "Rmd_chunk_options": "filePathExample, eval=FALSE",
    "autoscroll": false,
    "collapsed": true
   },
   "outputs": [],
   "source": [
    "toSif(\"/directory/file\")\n",
    "#or\n",
    "toSif(\"X:\\\\directory\\\\file\")\n"
   ]
  },
  {
   "cell_type": "markdown",
   "metadata": {},
   "source": [
    "\n",
    "## Memory Limits: Specify JVM Maximum Heap Size\n",
    "\n",
    "By default **paxtoolsr** uses a maximum heap size limit of 512MB. For large BioPAX files, this limit may be insufficient. The code below shows how to change this limit and observe that the change was made.\n",
    "\n",
    "**NOTE:** This limit cannot be changed once the virtual machine has been initialized\n",
    "by loading the library, so the memory heap size limit must be changed beforehand.\n",
    "\n"
   ]
  },
  {
   "cell_type": "code",
   "execution_count": null,
   "metadata": {
    "Rmd_chunk_options": "changeHeapSize, eval=FALSE",
    "autoscroll": false,
    "collapsed": true
   },
   "outputs": [],
   "source": [
    "options(java.parameters=\"-Xmx1024m\")\n",
    "\n",
    "library(paxtoolsr)\n",
    "\n",
    "# Megabyte size\n",
    "mbSize <- 1048576.0\n",
    "\n",
    "runtime <- .jcall(\"java/lang/Runtime\", \"Ljava/lang/Runtime;\", \"getRuntime\")\n",
    "maxMemory <- .jcall(runtime, \"J\", \"maxMemory\")\n",
    "maxMemoryMb <- maxMemory / mbSize\n",
    "cat(\"Max Memory: \", maxMemoryMb, \"\\n\")\n"
   ]
  },
  {
   "cell_type": "markdown",
   "metadata": {},
   "source": [
    "\n",
    "# Session Information\n",
    "\n"
   ]
  },
  {
   "cell_type": "code",
   "execution_count": null,
   "metadata": {
    "Rmd_chunk_options": "sessionInfo",
    "autoscroll": false,
    "collapsed": true
   },
   "outputs": [],
   "source": [
    "sessionInfo()\n"
   ]
  },
  {
   "cell_type": "markdown",
   "metadata": {},
   "source": [
    "\n",
    "# References\n",
    "\n",
    "* Cerami EG, Gross BE, Demir E, Rodchenkov I, Babur O, Anwar N, Schultz N, Bader GD, Sander C. Pathway Commons, a web resource for biological pathway data. Nucleic Acids Res. 2011 Jan;39(Database issue):D685-90. doi: 10.1093/nar/gkq1039. Epub 2010 Nov 10.\n",
    "* Rodchenkov I, Demir E, Sander C, Bader GD. The BioPAX Validator. Bioinformatics. 2013 Oct 15;29(20):2659-60. doi: 10.1093/bioinformatics/btt452. Epub 2013 Aug 5.\n"
   ]
  }
 ],
 "metadata": {
  "Rmd_header": {
   "output": {
    "BiocStyle::html_document": {
     "toc": true
    }
   },
   "title": "Using PaxtoolsR"
  },
  "kernelspec": {
   "display_name": "R",
   "language": "R",
   "name": "ir"
  },
  "language_info": {
   "codemirror_mode": "r",
   "file_extension": ".r",
   "mimetype": "text/x-r-source",
   "name": "R",
   "pygments_lexer": "r"
  }
 },
 "nbformat": 4,
 "nbformat_minor": 0
}
