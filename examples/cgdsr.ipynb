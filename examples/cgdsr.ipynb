{
 "cells": [
  {
   "cell_type": "markdown",
   "metadata": {},
   "source": [
    "\n",
    "<!--\n",
    "%\\VignetteEngine{knitr::rmarkdown}\n",
    "%\\VignetteIndexEntry{Introduction to the CGDS R library}\n",
    "%\\VignetteKeywords{cgdsr}\n",
    "%\\VignetteDepends{cgdsr}\n",
    "%\\VignettePackage{cgdsr}\n",
    "-->\n",
    "\n"
   ]
  },
  {
   "cell_type": "code",
   "execution_count": null,
   "metadata": {
    "Rmd_chunk_options": "knitrSetup, include=FALSE",
    "autoscroll": false,
    "collapsed": true
   },
   "outputs": [],
   "source": [
    "library(knitr)\n",
    "opts_chunk$set(out.extra='style=\"display:block; margin: auto\"', fig.align=\"center\", tidy=TRUE)\n"
   ]
  },
  {
   "cell_type": "markdown",
   "metadata": {},
   "source": [
    "\n",
    "# Introduction\n",
    "\n",
    "This package provides a basic set of R functions for querying\n",
    "the Cancer Genomic Data Server (CGDS) hosted by the Computational\n",
    "Biology Center (cBio) at the Memorial Sloan-Kettering Cancer Center (MSKCC). This\n",
    "service is a part of the cBio Cancer Genomics Portal, [http://www.cbioportal.org/](http://www.cbioportal.org/).\n",
    "\n",
    "In summary, the library can issue the following types of queries:\n",
    "\n",
    "* getCancerStudies(): What cancer studies are hosted on the server?\n",
    "For example, TCGA glioblastoma or TCGA ovarian cancer.\n",
    "\n",
    "* getGeneticProfiles(): What genetic profile types are available for\n",
    "cancer study X? For example, mRNA expression or copy number alterations.\n",
    "\n",
    "* getCaseLists(): what case sets are available for cancer study X? For\n",
    "example, all samples or only samples corresponding to a given cancer subtype.\n",
    "\n",
    "* getProfileData(): Retrieve slices of genomic data.  For\n",
    "example, a client can retrieve all mutation data for PTEN and EGFR in\n",
    "TCGA glioblastoma.\n",
    "\n",
    "* getClinicalData(): Retrieve clinical data (e.g. patient\n",
    "survival time and age) for a given cancer study and list of cases.\n",
    "\n",
    "Each of these functions will be briefly described in the following\n",
    "sections. The last part of this document includes some concrete examples\n",
    "of how to access and plot the data.\n",
    "\n",
    "The purpose of this document is to give the reader a quick overview of\n",
    "the **cgdsr** package. Please refer to the corresponding R manual\n",
    "pages for a more detailed explanation of arguments and output for each\n",
    "function.\n",
    "\n",
    "# The CGDS R interface\n",
    "\n",
    "## CGDS(): Create a CGDS connection object\n",
    "Initially, we will establish a connection to the public CGDS\n",
    "server hosted by Memorial Sloan-Kettering Cancer Center. The function\n",
    "for creating a CGDS connection object requires the URL of the CGDS\n",
    "server service, in this case [http://www.cbioportal.org/](http://www.cbioportal.org/), as an argument.\n",
    "\n"
   ]
  },
  {
   "cell_type": "code",
   "execution_count": null,
   "metadata": {
    "autoscroll": false,
    "collapsed": true
   },
   "outputs": [],
   "source": [
    "library(cgdsr)\n",
    "# Create CGDS object\n",
    "mycgds <- CGDS(\"http://www.cbioportal.org/\")\n"
   ]
  },
  {
   "cell_type": "markdown",
   "metadata": {},
   "source": [
    "\n",
    "The variable **mycgds** is now a CGDS connection object\n",
    "pointing at the URL for the public CGDS server. This connection object must\n",
    "be included as an argument to all subsequent interface\n",
    "calls. Optionally, we can now perform a set of simple tests of the data\n",
    "returned from the CGDS connection object using the **test** function:\n",
    "\n"
   ]
  },
  {
   "cell_type": "code",
   "execution_count": null,
   "metadata": {
    "autoscroll": false,
    "collapsed": true
   },
   "outputs": [],
   "source": [
    "# Test the CGDS endpoint URL using a few simple API tests\n",
    "test(mycgds)\n"
   ]
  },
  {
   "cell_type": "markdown",
   "metadata": {},
   "source": [
    "\n",
    "## getCancerStudies(): Retrieve a set of available cancer studies\n",
    "\n",
    "Having created a CGDS connection object, we can now retrieve a data\n",
    "frame with available cancer studies using the **getCancerStudies** function:\n",
    "\n"
   ]
  },
  {
   "cell_type": "code",
   "execution_count": null,
   "metadata": {
    "autoscroll": false,
    "collapsed": true
   },
   "outputs": [],
   "source": [
    "# Get list of cancer studies at server\n",
    "# NOTE: Only show the first few with head()\n",
    "head(getCancerStudies(mycgds)[, c(1,2)])\n"
   ]
  },
  {
   "cell_type": "markdown",
   "metadata": {},
   "source": [
    "\n",
    "Here we are only showing the first two columns, the cancer study ID and\n",
    "short name, of the result data frame. There is also a third column,\n",
    "a longer description of the cancer study. The cancer study ID must be\n",
    "used in subsequent interface calls to retrieve case lists and genetic\n",
    "data profiles (see below).\n",
    "\n",
    "## getGeneticProfiles(): Retrieve genetic data profiles for a specific cancer study\n",
    "This function queries the CGDS API and returns the available genetic\n",
    "profiles, e.g. mutation or copy number profiles, stored about a\n",
    "specific cancer study. Below we list the current genetic profiles for\n",
    "the TCGA glioblastoma cancer study:\n",
    "\n"
   ]
  },
  {
   "cell_type": "code",
   "execution_count": null,
   "metadata": {
    "autoscroll": false,
    "collapsed": true
   },
   "outputs": [],
   "source": [
    "head(getGeneticProfiles(mycgds,'gbm_tcga')[,c(1:2)])\n"
   ]
  },
  {
   "cell_type": "markdown",
   "metadata": {},
   "source": [
    "\n",
    "Here we are only listing the first two columns, genetic profile ID and\n",
    "short name, of the resulting data frame. Please refer to the R manual\n",
    "pages for a more extended specification of the arguments and output.\n",
    "\n",
    "\n",
    "## getCaseLists(): Retrieve case lists for a specific cancer study\n",
    "This function queries the CGDS API and returns available case lists\n",
    "for a specific cancer study. For example, within a particular study, only\n",
    "some cases may have sequence data, and another subset of cases may\n",
    "have been sequenced and treated with a specific therapeutic protocol.  Multiple\n",
    "case lists may be associated with each cancer study, and this method\n",
    "enables you to retrieve meta-data regarding all of these case\n",
    "lists. Below we list the current case lists for the TCGA glioblastoma\n",
    "cancer study:\n",
    "\n"
   ]
  },
  {
   "cell_type": "code",
   "execution_count": null,
   "metadata": {
    "autoscroll": false,
    "collapsed": true
   },
   "outputs": [],
   "source": [
    "getCaseLists(mycgds,'gbm_tcga')[,c(1:2)]\n"
   ]
  },
  {
   "cell_type": "markdown",
   "metadata": {},
   "source": [
    "\n",
    "Here we are only listing the first two columns, case list ID and\n",
    "short name, of the resulting data frame. Please refer to the R manual\n",
    "pages for a more extended specification of the arguments and output.\n",
    "\n",
    "## getProfileData(): Retrieve genomic profile data for genes and genetic profiles\n",
    "The function queries the CGDS API and returns data based on gene(s),\n",
    "genetic profile(s), and a case list. The function only allows\n",
    "specifying a list of genes and a single genetic profile, or oppositely\n",
    "a single gene and a list of genetic profiles. Importantly, the format of the output\n",
    "data frame depends on if a single or a list of genes was specified in\n",
    "the arguments. Below we are retrieving mRNA expression and copy number\n",
    "alteration genetic profiles for the NF1 gene in all samples of the TCGA glioblastoma\n",
    "cancer study:\n",
    "\n"
   ]
  },
  {
   "cell_type": "code",
   "execution_count": null,
   "metadata": {
    "autoscroll": false,
    "collapsed": true
   },
   "outputs": [],
   "source": [
    "getProfileData(mycgds, \"NF1\", c(\"gbm_tcga_gistic\",\"gbm_tcga_mrna\"), \"gbm_tcga_all\")[c(1:5),]\n"
   ]
  },
  {
   "cell_type": "markdown",
   "metadata": {},
   "source": [
    "\n",
    "We are here only showing the first five rows of the data frame. In the next example, we are\n",
    "retrieving mRNA expression data for the MDM2 and MDM4 genes:\n",
    "\n"
   ]
  },
  {
   "cell_type": "code",
   "execution_count": null,
   "metadata": {
    "autoscroll": false,
    "collapsed": true
   },
   "outputs": [],
   "source": [
    "getProfileData(mycgds, c(\"MDM2\",\"MDM4\"), \"gbm_tcga_mrna\", \"gbm_tcga_all\")[c(1:5),]\n"
   ]
  },
  {
   "cell_type": "markdown",
   "metadata": {},
   "source": [
    "\n",
    "We are again only showing the first five rows of the data frame.\n",
    "\n",
    "## getClinicalData(): Retrieve clinical data for a list of cases\n",
    "The function queries the CGDS API and returns available clinical data (e.g. patient\n",
    "survival time and age) for a given case list. Results are returned in\n",
    "a data frame with a row for each case and a column for each clinical\n",
    "attribute. The available clinical attributes are:\n",
    "\n",
    "* overall_survival_months: Overall survival, in months.\n",
    "* overall_survival_status: Overall survival status, usually indicated as \"LIVING\" or \"DECEASED\".\n",
    "* disease_free_survival_months: Disease free survival, in months.\n",
    "* disease_free_survival_status: Disease free survival status, usually indicated as \"DiseaseFree\" or \"Recurred/Progressed\".\n",
    "* age_at_diagnosis: Age at diagnosis.\n",
    "\n",
    "Below we retrieve clinical data for the TCGA ovarian cancer dataset (only first five\n",
    "cases/rows are shown):\n",
    "\n"
   ]
  },
  {
   "cell_type": "code",
   "execution_count": null,
   "metadata": {
    "autoscroll": false,
    "collapsed": true
   },
   "outputs": [],
   "source": [
    "getClinicalData(mycgds, \"ova_all\")[c(1:5),]\n"
   ]
  },
  {
   "cell_type": "markdown",
   "metadata": {},
   "source": [
    "\n",
    "# Examples\n",
    "\n",
    "## Example 1: Association of NF1 copy number alteration and mRNA expression in glioblastoma\n",
    "As a simple example, we will generate a plot of the association between\n",
    "copy number alteration (CNA) status and mRNA expression change for the\n",
    "NF1 tumor suprpressor gene in glioblastoma. This plot is very similar\n",
    "to Figure 2b in the TCGA research network paper on glioblastoma\n",
    "(McLendon et al. 2008). The mRNA expression of NF1 has been\n",
    "median adjusted on the gene level (by globally subtracting the median expression\n",
    "level of NF1 across all samples).\n",
    "\n"
   ]
  },
  {
   "cell_type": "code",
   "execution_count": null,
   "metadata": {
    "Rmd_chunk_options": "NF1plot1, fig.show=TRUE, echo=TRUE",
    "autoscroll": false,
    "collapsed": true
   },
   "outputs": [],
   "source": [
    "df <- getProfileData(mycgds, \"NF1\", c(\"gbm_tcga_gistic\",\"gbm_tcga_mrna\"), \"gbm_tcga_all\")\n",
    "head(df)\n",
    "boxplot(df[,2] ~ df[,1], main=\"NF1 : CNA status vs mRNA expression\", xlab=\"CNA status\", ylab=\"mRNA expression\", outpch = NA)\n",
    "stripchart(df[,2] ~ df[,1], vertical=T, add=T, method=\"jitter\",pch=1,col='red')\n"
   ]
  },
  {
   "cell_type": "markdown",
   "metadata": {},
   "source": [
    "\n",
    "Alternatively, the generic **cgdsr** **plot()**\n",
    "function can be used to generate a similar plot:\n",
    "\n"
   ]
  },
  {
   "cell_type": "code",
   "execution_count": null,
   "metadata": {
    "Rmd_chunk_options": "NF1plot2, fig.show=TRUE, echo=TRUE",
    "autoscroll": false,
    "collapsed": true
   },
   "outputs": [],
   "source": [
    "plot(mycgds, \"gbm_tcga\", \"NF1\", c(\"gbm_tcga_gistic\",\"gbm_tcga_mrna\"), \"gbm_tcga_all\", skin = 'disc_cont')\n"
   ]
  },
  {
   "cell_type": "markdown",
   "metadata": {},
   "source": [
    "\n",
    "## Example 2: MDM2 and MDM4 mRNA expression levels in glioblastoma\n",
    "In this example, we evaluate the relationship of MDM2 and MDM4\n",
    "expression levels in glioblastoma. mRNA expression levels of MDM2 and MDM4 have been\n",
    "median adjusted on the gene level (by globally subtracting the median expression\n",
    "level of the individual gene across all samples).\n",
    "\n"
   ]
  },
  {
   "cell_type": "code",
   "execution_count": null,
   "metadata": {
    "Rmd_chunk_options": "MDM2plot1, fig.show=TRUE, echo=TRUE",
    "autoscroll": false,
    "collapsed": true
   },
   "outputs": [],
   "source": [
    "df <- getProfileData(mycgds, c(\"MDM2\",\"MDM4\"), \"gbm_tcga_mrna\", \"gbm_tcga_all\")\n",
    "head(df)\n",
    "plot(df, main=\"MDM2 and MDM4 mRNA expression\", xlab=\"MDM2 mRNA expression\", ylab=\"MDM4 mRNA expression\")\n"
   ]
  },
  {
   "cell_type": "markdown",
   "metadata": {},
   "source": [
    "\n",
    "Alternatively, the generic **cgdsr** **plot()**\n",
    "function can be used to generate a similar plot:\n",
    "\n"
   ]
  },
  {
   "cell_type": "code",
   "execution_count": null,
   "metadata": {
    "Rmd_chunk_options": "MDMplot2, fig.show=TRUE, echo=TRUE",
    "autoscroll": false,
    "collapsed": true
   },
   "outputs": [],
   "source": [
    "plot(mycgds, \"gbm_tcga\", c(\"MDM2\",\"MDM4\"), \"gbm_tcga_mrna\" ,\"gbm_tcga_all\")\n"
   ]
  },
  {
   "cell_type": "markdown",
   "metadata": {},
   "source": [
    "\n",
    "## Example 3: Comparing expression of PTEN in primary and metastatic prostate cancer tumors\n",
    "In this example we plot the mRNA expression levels of PTEN in primary\n",
    "and metastatic prostate cancer tumors.\n",
    "\n"
   ]
  },
  {
   "cell_type": "code",
   "execution_count": null,
   "metadata": {
    "Rmd_chunk_options": "PTENplot, fig.show=TRUE, echo=TRUE",
    "autoscroll": false,
    "collapsed": true
   },
   "outputs": [],
   "source": [
    "df.pri <- getProfileData(mycgds, \"PTEN\", \"prad_mskcc_mrna\", \"prad_mskcc_primary\")\n",
    "head(df.pri)\n",
    "df.met <- getProfileData(mycgds, \"PTEN\", \"prad_mskcc_mrna\", \"prad_mskcc_mets\")\n",
    "head(df.met)\n",
    "boxplot(list(t(df.pri),t(df.met)), main=\"PTEN expression in primary and metastatic tumors\", xlab=\"Tumor type\", ylab=\"PTEN mRNA expression\",names=c('primary','metastatic'), outpch = NA)\n",
    "stripchart(list(t(df.pri),t(df.met)), vertical=T, add=T, method=\"jitter\",pch=1,col='red')\n"
   ]
  }
 ],
 "metadata": {
  "Rmd_header": {
   "author": "Anders Jacobsen",
   "date": "`r format(Sys.time(), '%b %d, %Y')`",
   "output": {
    "html_document": {
     "toc": true
    }
   },
   "title": "Introduction to the CGDS R library"
  },
  "kernelspec": {
   "display_name": "R",
   "language": "R",
   "name": "ir"
  },
  "language_info": {
   "codemirror_mode": "r",
   "file_extension": ".r",
   "mimetype": "text/x-r-source",
   "name": "R",
   "pygments_lexer": "r"
  }
 },
 "nbformat": 4,
 "nbformat_minor": 0
}
